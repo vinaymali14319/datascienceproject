{
 "cells": [
  {
   "cell_type": "markdown",
   "id": "e361f37d",
   "metadata": {},
   "source": [
    "## Import packages"
   ]
  },
  {
   "cell_type": "code",
   "execution_count": null,
   "id": "4cac1226",
   "metadata": {},
   "outputs": [],
   "source": []
  },
  {
   "cell_type": "code",
   "execution_count": 1,
   "id": "a549e18a",
   "metadata": {},
   "outputs": [],
   "source": [
    "import pandas as pd\n",
    "import numpy as np\n",
    "import matplotlib.pyplot as plt\n",
    "import seaborn as sns\n"
   ]
  },
  {
   "cell_type": "markdown",
   "id": "9f39d799",
   "metadata": {},
   "source": [
    "## Read dataset"
   ]
  },
  {
   "cell_type": "code",
   "execution_count": 2,
   "id": "325313b5",
   "metadata": {},
   "outputs": [],
   "source": [
    "df=pd.read_csv(\"./HR_Employee_Data.csv\")\n"
   ]
  },
  {
   "cell_type": "code",
   "execution_count": 3,
   "id": "cc0b76e5",
   "metadata": {},
   "outputs": [
    {
     "name": "stdout",
     "output_type": "stream",
     "text": [
      "149990\n"
     ]
    }
   ],
   "source": [
    "total_values=df.size\n",
    "print(total_values)"
   ]
  },
  {
   "cell_type": "markdown",
   "id": "50ba4d9c",
   "metadata": {},
   "source": [
    "## Exploratory data analysis"
   ]
  },
  {
   "cell_type": "code",
   "execution_count": 4,
   "id": "64f32d8e",
   "metadata": {},
   "outputs": [
    {
     "name": "stdout",
     "output_type": "stream",
     "text": [
      "<class 'pandas.core.frame.DataFrame'>\n",
      "RangeIndex: 14999 entries, 0 to 14998\n",
      "Data columns (total 10 columns):\n",
      " #   Column                 Non-Null Count  Dtype  \n",
      "---  ------                 --------------  -----  \n",
      " 0   Emp_Id                 14995 non-null  object \n",
      " 1   satisfaction_level     14968 non-null  object \n",
      " 2   last_evaluation        14949 non-null  object \n",
      " 3   number_project         14927 non-null  float64\n",
      " 4   average_montly_hours   14898 non-null  float64\n",
      " 5   time_spend_company     14912 non-null  float64\n",
      " 6   left                   14783 non-null  float64\n",
      " 7   promotion_last_5years  3079 non-null   float64\n",
      " 8   Department             14919 non-null  object \n",
      " 9   salary                 14902 non-null  object \n",
      "dtypes: float64(5), object(5)\n",
      "memory usage: 1.1+ MB\n"
     ]
    }
   ],
   "source": [
    "df.info()"
   ]
  },
  {
   "cell_type": "code",
   "execution_count": 5,
   "id": "f5743562",
   "metadata": {},
   "outputs": [
    {
     "data": {
      "text/plain": [
       "Index(['Emp_Id', 'satisfaction_level', 'last_evaluation', 'number_project',\n",
       "       'average_montly_hours', 'time_spend_company', 'left',\n",
       "       'promotion_last_5years', 'Department', 'salary'],\n",
       "      dtype='object')"
      ]
     },
     "execution_count": 5,
     "metadata": {},
     "output_type": "execute_result"
    }
   ],
   "source": [
    "df.columns"
   ]
  },
  {
   "cell_type": "markdown",
   "id": "5a7f401a",
   "metadata": {},
   "source": [
    "## Data cleanig"
   ]
  },
  {
   "cell_type": "markdown",
   "id": "2528a257",
   "metadata": {},
   "source": [
    "### Convert data string into integer"
   ]
  },
  {
   "cell_type": "code",
   "execution_count": 6,
   "id": "e3aafb4d",
   "metadata": {},
   "outputs": [
    {
     "name": "stdout",
     "output_type": "stream",
     "text": [
      "     Emp_Id satisfaction_level last_evaluation  number_project  \\\n",
      "0  IND02438                38%              53             2.0   \n",
      "1  IND28133                80%              86             5.0   \n",
      "2  IND07164                11%              88             7.0   \n",
      "3  IND30478                72%              87             5.0   \n",
      "4  IND24003                NaN              52             2.0   \n",
      "\n",
      "   average_montly_hours  time_spend_company  left  promotion_last_5years  \\\n",
      "0                 157.0                 3.0   1.0                    NaN   \n",
      "1                 262.0                 6.0   1.0                    NaN   \n",
      "2                 272.0                 4.0   1.0                    NaN   \n",
      "3                 223.0                 5.0   1.0                    NaN   \n",
      "4                 159.0                 3.0   1.0                    NaN   \n",
      "\n",
      "  Department  salary  \n",
      "0      sales     low  \n",
      "1      sales  medium  \n",
      "2      sales  medium  \n",
      "3      sales     low  \n",
      "4      sales     low  \n"
     ]
    },
    {
     "name": "stderr",
     "output_type": "stream",
     "text": [
      "C:\\Users\\Vinay\\AppData\\Local\\Temp/ipykernel_24724/3809622228.py:1: FutureWarning: The default value of regex will change from True to False in a future version.\n",
      "  df['last_evaluation'] = df['last_evaluation'].str.replace(r'\\W',\"\")\n"
     ]
    }
   ],
   "source": [
    "df['last_evaluation'] = df['last_evaluation'].str.replace(r'\\W',\"\")\n",
    "print(df.head())"
   ]
  },
  {
   "cell_type": "code",
   "execution_count": 7,
   "id": "64d8e051",
   "metadata": {},
   "outputs": [
    {
     "name": "stderr",
     "output_type": "stream",
     "text": [
      "C:\\Users\\Vinay\\AppData\\Local\\Temp/ipykernel_24724/3669955093.py:1: FutureWarning: The default value of regex will change from True to False in a future version.\n",
      "  df['satisfaction_level']= df['satisfaction_level'].str.replace(r'\\W',\"\")\n"
     ]
    },
    {
     "name": "stdout",
     "output_type": "stream",
     "text": [
      "     Emp_Id satisfaction_level last_evaluation  number_project  \\\n",
      "0  IND02438                 38              53             2.0   \n",
      "1  IND28133                 80              86             5.0   \n",
      "2  IND07164                 11              88             7.0   \n",
      "3  IND30478                 72              87             5.0   \n",
      "4  IND24003                NaN              52             2.0   \n",
      "\n",
      "   average_montly_hours  time_spend_company  left  promotion_last_5years  \\\n",
      "0                 157.0                 3.0   1.0                    NaN   \n",
      "1                 262.0                 6.0   1.0                    NaN   \n",
      "2                 272.0                 4.0   1.0                    NaN   \n",
      "3                 223.0                 5.0   1.0                    NaN   \n",
      "4                 159.0                 3.0   1.0                    NaN   \n",
      "\n",
      "  Department  salary  \n",
      "0      sales     low  \n",
      "1      sales  medium  \n",
      "2      sales  medium  \n",
      "3      sales     low  \n",
      "4      sales     low  \n"
     ]
    }
   ],
   "source": [
    "df['satisfaction_level']= df['satisfaction_level'].str.replace(r'\\W',\"\")\n",
    "print(df.head())"
   ]
  },
  {
   "cell_type": "code",
   "execution_count": 8,
   "id": "ca87d05e",
   "metadata": {},
   "outputs": [
    {
     "name": "stdout",
     "output_type": "stream",
     "text": [
      "<class 'pandas.core.frame.DataFrame'>\n",
      "RangeIndex: 14999 entries, 0 to 14998\n",
      "Data columns (total 10 columns):\n",
      " #   Column                 Non-Null Count  Dtype  \n",
      "---  ------                 --------------  -----  \n",
      " 0   Emp_Id                 14995 non-null  object \n",
      " 1   satisfaction_level     14968 non-null  object \n",
      " 2   last_evaluation        14949 non-null  object \n",
      " 3   number_project         14927 non-null  float64\n",
      " 4   average_montly_hours   14898 non-null  float64\n",
      " 5   time_spend_company     14912 non-null  float64\n",
      " 6   left                   14783 non-null  float64\n",
      " 7   promotion_last_5years  3079 non-null   float64\n",
      " 8   Department             14919 non-null  object \n",
      " 9   salary                 14902 non-null  object \n",
      "dtypes: float64(5), object(5)\n",
      "memory usage: 1.1+ MB\n"
     ]
    }
   ],
   "source": [
    "df.info()"
   ]
  },
  {
   "cell_type": "code",
   "execution_count": 9,
   "id": "a13eade5",
   "metadata": {},
   "outputs": [
    {
     "data": {
      "text/html": [
       "<div>\n",
       "<style scoped>\n",
       "    .dataframe tbody tr th:only-of-type {\n",
       "        vertical-align: middle;\n",
       "    }\n",
       "\n",
       "    .dataframe tbody tr th {\n",
       "        vertical-align: top;\n",
       "    }\n",
       "\n",
       "    .dataframe thead th {\n",
       "        text-align: right;\n",
       "    }\n",
       "</style>\n",
       "<table border=\"1\" class=\"dataframe\">\n",
       "  <thead>\n",
       "    <tr style=\"text-align: right;\">\n",
       "      <th></th>\n",
       "      <th>Emp_Id</th>\n",
       "      <th>satisfaction_level</th>\n",
       "      <th>last_evaluation</th>\n",
       "      <th>number_project</th>\n",
       "      <th>average_montly_hours</th>\n",
       "      <th>time_spend_company</th>\n",
       "      <th>left</th>\n",
       "      <th>promotion_last_5years</th>\n",
       "      <th>Department</th>\n",
       "      <th>salary</th>\n",
       "    </tr>\n",
       "  </thead>\n",
       "  <tbody>\n",
       "    <tr>\n",
       "      <th>0</th>\n",
       "      <td>IND02438</td>\n",
       "      <td>38</td>\n",
       "      <td>53</td>\n",
       "      <td>2.0</td>\n",
       "      <td>157.0</td>\n",
       "      <td>3.0</td>\n",
       "      <td>1.0</td>\n",
       "      <td>NaN</td>\n",
       "      <td>sales</td>\n",
       "      <td>low</td>\n",
       "    </tr>\n",
       "    <tr>\n",
       "      <th>1</th>\n",
       "      <td>IND28133</td>\n",
       "      <td>80</td>\n",
       "      <td>86</td>\n",
       "      <td>5.0</td>\n",
       "      <td>262.0</td>\n",
       "      <td>6.0</td>\n",
       "      <td>1.0</td>\n",
       "      <td>NaN</td>\n",
       "      <td>sales</td>\n",
       "      <td>medium</td>\n",
       "    </tr>\n",
       "    <tr>\n",
       "      <th>2</th>\n",
       "      <td>IND07164</td>\n",
       "      <td>11</td>\n",
       "      <td>88</td>\n",
       "      <td>7.0</td>\n",
       "      <td>272.0</td>\n",
       "      <td>4.0</td>\n",
       "      <td>1.0</td>\n",
       "      <td>NaN</td>\n",
       "      <td>sales</td>\n",
       "      <td>medium</td>\n",
       "    </tr>\n",
       "    <tr>\n",
       "      <th>3</th>\n",
       "      <td>IND30478</td>\n",
       "      <td>72</td>\n",
       "      <td>87</td>\n",
       "      <td>5.0</td>\n",
       "      <td>223.0</td>\n",
       "      <td>5.0</td>\n",
       "      <td>1.0</td>\n",
       "      <td>NaN</td>\n",
       "      <td>sales</td>\n",
       "      <td>low</td>\n",
       "    </tr>\n",
       "    <tr>\n",
       "      <th>4</th>\n",
       "      <td>IND24003</td>\n",
       "      <td>NaN</td>\n",
       "      <td>52</td>\n",
       "      <td>2.0</td>\n",
       "      <td>159.0</td>\n",
       "      <td>3.0</td>\n",
       "      <td>1.0</td>\n",
       "      <td>NaN</td>\n",
       "      <td>sales</td>\n",
       "      <td>low</td>\n",
       "    </tr>\n",
       "  </tbody>\n",
       "</table>\n",
       "</div>"
      ],
      "text/plain": [
       "     Emp_Id satisfaction_level last_evaluation  number_project  \\\n",
       "0  IND02438                 38              53             2.0   \n",
       "1  IND28133                 80              86             5.0   \n",
       "2  IND07164                 11              88             7.0   \n",
       "3  IND30478                 72              87             5.0   \n",
       "4  IND24003                NaN              52             2.0   \n",
       "\n",
       "   average_montly_hours  time_spend_company  left  promotion_last_5years  \\\n",
       "0                 157.0                 3.0   1.0                    NaN   \n",
       "1                 262.0                 6.0   1.0                    NaN   \n",
       "2                 272.0                 4.0   1.0                    NaN   \n",
       "3                 223.0                 5.0   1.0                    NaN   \n",
       "4                 159.0                 3.0   1.0                    NaN   \n",
       "\n",
       "  Department  salary  \n",
       "0      sales     low  \n",
       "1      sales  medium  \n",
       "2      sales  medium  \n",
       "3      sales     low  \n",
       "4      sales     low  "
      ]
     },
     "execution_count": 9,
     "metadata": {},
     "output_type": "execute_result"
    }
   ],
   "source": [
    "df.head(5)"
   ]
  },
  {
   "cell_type": "code",
   "execution_count": 9,
   "id": "7df86a77",
   "metadata": {},
   "outputs": [
    {
     "data": {
      "text/plain": [
       "Emp_Id                       4\n",
       "satisfaction_level          31\n",
       "last_evaluation             50\n",
       "number_project              72\n",
       "average_montly_hours       101\n",
       "time_spend_company          87\n",
       "left                       216\n",
       "promotion_last_5years    11920\n",
       "Department                  80\n",
       "salary                      97\n",
       "dtype: int64"
      ]
     },
     "execution_count": 9,
     "metadata": {},
     "output_type": "execute_result"
    }
   ],
   "source": [
    "df.isna().sum()"
   ]
  },
  {
   "cell_type": "code",
   "execution_count": 10,
   "id": "0de63696",
   "metadata": {},
   "outputs": [],
   "source": [
    "df['average_montly_hours'].fillna(df['average_montly_hours'].mean(), inplace = True)\n"
   ]
  },
  {
   "cell_type": "code",
   "execution_count": null,
   "id": "2d3eb5c8",
   "metadata": {},
   "outputs": [],
   "source": []
  },
  {
   "cell_type": "code",
   "execution_count": 11,
   "id": "f254c202",
   "metadata": {},
   "outputs": [
    {
     "data": {
      "text/plain": [
       "Emp_Id                       4\n",
       "satisfaction_level          31\n",
       "last_evaluation             50\n",
       "number_project              72\n",
       "average_montly_hours         0\n",
       "time_spend_company          87\n",
       "left                       216\n",
       "promotion_last_5years    11920\n",
       "Department                  80\n",
       "salary                      97\n",
       "dtype: int64"
      ]
     },
     "execution_count": 11,
     "metadata": {},
     "output_type": "execute_result"
    }
   ],
   "source": [
    "df.isna().sum()"
   ]
  },
  {
   "cell_type": "code",
   "execution_count": null,
   "id": "56b07939",
   "metadata": {},
   "outputs": [],
   "source": []
  },
  {
   "cell_type": "code",
   "execution_count": null,
   "id": "825bf9bb",
   "metadata": {},
   "outputs": [],
   "source": []
  },
  {
   "cell_type": "code",
   "execution_count": 12,
   "id": "5319ec77",
   "metadata": {},
   "outputs": [],
   "source": [
    "df.dropna(subset = [\"Emp_Id\",\"satisfaction_level\",\"last_evaluation\",\"number_project\",\n",
    "                    \"time_spend_company\",\"left\",\"Department\",\"salary\"], inplace=True)"
   ]
  },
  {
   "cell_type": "code",
   "execution_count": 13,
   "id": "19d3d548",
   "metadata": {},
   "outputs": [
    {
     "data": {
      "text/plain": [
       "Emp_Id                       0\n",
       "satisfaction_level           0\n",
       "last_evaluation              0\n",
       "number_project               0\n",
       "average_montly_hours         0\n",
       "time_spend_company           0\n",
       "left                         0\n",
       "promotion_last_5years    11389\n",
       "Department                   0\n",
       "salary                       0\n",
       "dtype: int64"
      ]
     },
     "execution_count": 13,
     "metadata": {},
     "output_type": "execute_result"
    }
   ],
   "source": [
    "df.isna().sum()"
   ]
  },
  {
   "cell_type": "code",
   "execution_count": null,
   "id": "595bccc1",
   "metadata": {},
   "outputs": [],
   "source": []
  },
  {
   "cell_type": "code",
   "execution_count": null,
   "id": "510373e1",
   "metadata": {},
   "outputs": [],
   "source": []
  },
  {
   "cell_type": "code",
   "execution_count": 14,
   "id": "a4118f3d",
   "metadata": {},
   "outputs": [
    {
     "data": {
      "text/plain": [
       "Emp_Id                       0\n",
       "satisfaction_level           0\n",
       "last_evaluation              0\n",
       "number_project               0\n",
       "average_montly_hours         0\n",
       "time_spend_company           0\n",
       "left                         0\n",
       "promotion_last_5years    11389\n",
       "Department                   0\n",
       "salary                       0\n",
       "dtype: int64"
      ]
     },
     "execution_count": 14,
     "metadata": {},
     "output_type": "execute_result"
    }
   ],
   "source": [
    "df.isna().sum()"
   ]
  },
  {
   "cell_type": "code",
   "execution_count": null,
   "id": "b2f496bd",
   "metadata": {},
   "outputs": [],
   "source": []
  },
  {
   "cell_type": "markdown",
   "id": "42b8b475",
   "metadata": {},
   "source": [
    "### Convert textualvalues into numeric value"
   ]
  },
  {
   "cell_type": "code",
   "execution_count": 15,
   "id": "913f3df0",
   "metadata": {},
   "outputs": [
    {
     "name": "stdout",
     "output_type": "stream",
     "text": [
      "['sales' 'accounting' 'technical' 'management' 'IT' 'product_mng'\n",
      " 'marketing' 'support' 'hr' 'RandD']\n"
     ]
    }
   ],
   "source": [
    "department_unique_values=df[\"Department\"].unique()\n",
    "print(department_unique_values)"
   ]
  },
  {
   "cell_type": "code",
   "execution_count": 16,
   "id": "bcf8241a",
   "metadata": {},
   "outputs": [],
   "source": [
    "df[\"Department\"].replace({\"sales\": \"1\",\n",
    "                          \"accounting\": \"2\",\n",
    "                          \"hr\": \"3\",\n",
    "                          \"technical\": \"4\",\n",
    "                          \"support\": \"5\",\n",
    "                          \"management\": \"6\",\n",
    "                          \"IT\": \"7\",\n",
    "                          \"product_mng\": \"8\",\n",
    "                          \"marketing\": \"9\",\n",
    "                          \"RandD\":\"10\"\n",
    "                          }, inplace=True)"
   ]
  },
  {
   "cell_type": "code",
   "execution_count": null,
   "id": "59bad57e",
   "metadata": {},
   "outputs": [],
   "source": []
  },
  {
   "cell_type": "code",
   "execution_count": 17,
   "id": "0a883add",
   "metadata": {},
   "outputs": [
    {
     "name": "stdout",
     "output_type": "stream",
     "text": [
      "['low' 'medium' 'high']\n"
     ]
    }
   ],
   "source": [
    "Salary_unique_Values=df[\"salary\"].unique()\n",
    "print(Salary_unique_Values)"
   ]
  },
  {
   "cell_type": "code",
   "execution_count": 18,
   "id": "a2851ed3",
   "metadata": {},
   "outputs": [],
   "source": [
    "df[\"salary\"].replace({\"low\":\"1\",\n",
    "                      \"medium\":\"2\",\n",
    "                      \"high\":\"3\"\n",
    "                     },inplace=True)"
   ]
  },
  {
   "cell_type": "code",
   "execution_count": 19,
   "id": "d330fd41",
   "metadata": {},
   "outputs": [
    {
     "data": {
      "text/html": [
       "<div>\n",
       "<style scoped>\n",
       "    .dataframe tbody tr th:only-of-type {\n",
       "        vertical-align: middle;\n",
       "    }\n",
       "\n",
       "    .dataframe tbody tr th {\n",
       "        vertical-align: top;\n",
       "    }\n",
       "\n",
       "    .dataframe thead th {\n",
       "        text-align: right;\n",
       "    }\n",
       "</style>\n",
       "<table border=\"1\" class=\"dataframe\">\n",
       "  <thead>\n",
       "    <tr style=\"text-align: right;\">\n",
       "      <th></th>\n",
       "      <th>Emp_Id</th>\n",
       "      <th>satisfaction_level</th>\n",
       "      <th>last_evaluation</th>\n",
       "      <th>number_project</th>\n",
       "      <th>average_montly_hours</th>\n",
       "      <th>time_spend_company</th>\n",
       "      <th>left</th>\n",
       "      <th>promotion_last_5years</th>\n",
       "      <th>Department</th>\n",
       "      <th>salary</th>\n",
       "    </tr>\n",
       "  </thead>\n",
       "  <tbody>\n",
       "    <tr>\n",
       "      <th>0</th>\n",
       "      <td>IND02438</td>\n",
       "      <td>38</td>\n",
       "      <td>53</td>\n",
       "      <td>2.0</td>\n",
       "      <td>157.0</td>\n",
       "      <td>3.0</td>\n",
       "      <td>1.0</td>\n",
       "      <td>NaN</td>\n",
       "      <td>1</td>\n",
       "      <td>1</td>\n",
       "    </tr>\n",
       "    <tr>\n",
       "      <th>1</th>\n",
       "      <td>IND28133</td>\n",
       "      <td>80</td>\n",
       "      <td>86</td>\n",
       "      <td>5.0</td>\n",
       "      <td>262.0</td>\n",
       "      <td>6.0</td>\n",
       "      <td>1.0</td>\n",
       "      <td>NaN</td>\n",
       "      <td>1</td>\n",
       "      <td>2</td>\n",
       "    </tr>\n",
       "    <tr>\n",
       "      <th>2</th>\n",
       "      <td>IND07164</td>\n",
       "      <td>11</td>\n",
       "      <td>88</td>\n",
       "      <td>7.0</td>\n",
       "      <td>272.0</td>\n",
       "      <td>4.0</td>\n",
       "      <td>1.0</td>\n",
       "      <td>NaN</td>\n",
       "      <td>1</td>\n",
       "      <td>2</td>\n",
       "    </tr>\n",
       "    <tr>\n",
       "      <th>3</th>\n",
       "      <td>IND30478</td>\n",
       "      <td>72</td>\n",
       "      <td>87</td>\n",
       "      <td>5.0</td>\n",
       "      <td>223.0</td>\n",
       "      <td>5.0</td>\n",
       "      <td>1.0</td>\n",
       "      <td>NaN</td>\n",
       "      <td>1</td>\n",
       "      <td>1</td>\n",
       "    </tr>\n",
       "    <tr>\n",
       "      <th>7</th>\n",
       "      <td>IND16300</td>\n",
       "      <td>92</td>\n",
       "      <td>85</td>\n",
       "      <td>5.0</td>\n",
       "      <td>259.0</td>\n",
       "      <td>5.0</td>\n",
       "      <td>1.0</td>\n",
       "      <td>NaN</td>\n",
       "      <td>1</td>\n",
       "      <td>1</td>\n",
       "    </tr>\n",
       "  </tbody>\n",
       "</table>\n",
       "</div>"
      ],
      "text/plain": [
       "     Emp_Id satisfaction_level last_evaluation  number_project  \\\n",
       "0  IND02438                 38              53             2.0   \n",
       "1  IND28133                 80              86             5.0   \n",
       "2  IND07164                 11              88             7.0   \n",
       "3  IND30478                 72              87             5.0   \n",
       "7  IND16300                 92              85             5.0   \n",
       "\n",
       "   average_montly_hours  time_spend_company  left  promotion_last_5years  \\\n",
       "0                 157.0                 3.0   1.0                    NaN   \n",
       "1                 262.0                 6.0   1.0                    NaN   \n",
       "2                 272.0                 4.0   1.0                    NaN   \n",
       "3                 223.0                 5.0   1.0                    NaN   \n",
       "7                 259.0                 5.0   1.0                    NaN   \n",
       "\n",
       "  Department salary  \n",
       "0          1      1  \n",
       "1          1      2  \n",
       "2          1      2  \n",
       "3          1      1  \n",
       "7          1      1  "
      ]
     },
     "execution_count": 19,
     "metadata": {},
     "output_type": "execute_result"
    }
   ],
   "source": [
    "df.head()"
   ]
  },
  {
   "cell_type": "code",
   "execution_count": null,
   "id": "10ded13d",
   "metadata": {},
   "outputs": [],
   "source": []
  },
  {
   "cell_type": "code",
   "execution_count": null,
   "id": "a96951a4",
   "metadata": {
    "scrolled": true
   },
   "outputs": [],
   "source": []
  },
  {
   "cell_type": "markdown",
   "id": "3540e722",
   "metadata": {},
   "source": [
    "### Find null data into columns"
   ]
  },
  {
   "cell_type": "code",
   "execution_count": 20,
   "id": "cca60c28",
   "metadata": {
    "scrolled": false
   },
   "outputs": [
    {
     "data": {
      "text/plain": [
       "Emp_Id                       0\n",
       "satisfaction_level           0\n",
       "last_evaluation              0\n",
       "number_project               0\n",
       "average_montly_hours         0\n",
       "time_spend_company           0\n",
       "left                         0\n",
       "promotion_last_5years    11389\n",
       "Department                   0\n",
       "salary                       0\n",
       "dtype: int64"
      ]
     },
     "execution_count": 20,
     "metadata": {},
     "output_type": "execute_result"
    }
   ],
   "source": [
    "df.isna().sum()"
   ]
  },
  {
   "cell_type": "code",
   "execution_count": null,
   "id": "817a909e",
   "metadata": {},
   "outputs": [],
   "source": []
  },
  {
   "cell_type": "code",
   "execution_count": 21,
   "id": "6f7ec5a9",
   "metadata": {},
   "outputs": [],
   "source": [
    "df.drop(['promotion_last_5years','Emp_Id'],axis='columns',inplace=True)"
   ]
  },
  {
   "cell_type": "code",
   "execution_count": 22,
   "id": "93a0dab8",
   "metadata": {},
   "outputs": [
    {
     "data": {
      "text/plain": [
       "satisfaction_level      0\n",
       "last_evaluation         0\n",
       "number_project          0\n",
       "average_montly_hours    0\n",
       "time_spend_company      0\n",
       "left                    0\n",
       "Department              0\n",
       "salary                  0\n",
       "dtype: int64"
      ]
     },
     "execution_count": 22,
     "metadata": {},
     "output_type": "execute_result"
    }
   ],
   "source": [
    "df.isna().sum()"
   ]
  },
  {
   "cell_type": "code",
   "execution_count": 23,
   "id": "7100b40b",
   "metadata": {},
   "outputs": [
    {
     "name": "stdout",
     "output_type": "stream",
     "text": [
      "<class 'pandas.core.frame.DataFrame'>\n",
      "Int64Index: 14462 entries, 0 to 14998\n",
      "Data columns (total 8 columns):\n",
      " #   Column                Non-Null Count  Dtype  \n",
      "---  ------                --------------  -----  \n",
      " 0   satisfaction_level    14462 non-null  object \n",
      " 1   last_evaluation       14462 non-null  object \n",
      " 2   number_project        14462 non-null  float64\n",
      " 3   average_montly_hours  14462 non-null  float64\n",
      " 4   time_spend_company    14462 non-null  float64\n",
      " 5   left                  14462 non-null  float64\n",
      " 6   Department            14462 non-null  object \n",
      " 7   salary                14462 non-null  object \n",
      "dtypes: float64(4), object(4)\n",
      "memory usage: 1016.9+ KB\n"
     ]
    }
   ],
   "source": [
    "df.info()"
   ]
  },
  {
   "cell_type": "markdown",
   "id": "0e8f46d5",
   "metadata": {
    "scrolled": false
   },
   "source": [
    "### Convert data type object into float"
   ]
  },
  {
   "cell_type": "code",
   "execution_count": 24,
   "id": "141ea59f",
   "metadata": {},
   "outputs": [
    {
     "name": "stdout",
     "output_type": "stream",
     "text": [
      "<class 'pandas.core.frame.DataFrame'>\n",
      "Int64Index: 14462 entries, 0 to 14998\n",
      "Data columns (total 8 columns):\n",
      " #   Column                Non-Null Count  Dtype  \n",
      "---  ------                --------------  -----  \n",
      " 0   satisfaction_level    14462 non-null  float64\n",
      " 1   last_evaluation       14462 non-null  float64\n",
      " 2   number_project        14462 non-null  float64\n",
      " 3   average_montly_hours  14462 non-null  float64\n",
      " 4   time_spend_company    14462 non-null  float64\n",
      " 5   left                  14462 non-null  float64\n",
      " 6   Department            14462 non-null  float64\n",
      " 7   salary                14462 non-null  float64\n",
      "dtypes: float64(8)\n",
      "memory usage: 1016.9 KB\n"
     ]
    }
   ],
   "source": [
    "df['satisfaction_level']=df.satisfaction_level.astype(float)\n",
    "df['last_evaluation']=df.last_evaluation.astype(float)\n",
    "df['Department']=df.Department.astype(float)\n",
    "\n",
    "df['salary']=df.salary.astype(float)\n",
    "\n",
    "\n",
    "df.info()"
   ]
  },
  {
   "cell_type": "code",
   "execution_count": null,
   "id": "6cd1a3b5",
   "metadata": {},
   "outputs": [],
   "source": []
  },
  {
   "cell_type": "markdown",
   "id": "28f70b53",
   "metadata": {},
   "source": [
    "### Check coefficient of correlation "
   ]
  },
  {
   "cell_type": "code",
   "execution_count": 25,
   "id": "372997ef",
   "metadata": {},
   "outputs": [
    {
     "data": {
      "text/html": [
       "<div>\n",
       "<style scoped>\n",
       "    .dataframe tbody tr th:only-of-type {\n",
       "        vertical-align: middle;\n",
       "    }\n",
       "\n",
       "    .dataframe tbody tr th {\n",
       "        vertical-align: top;\n",
       "    }\n",
       "\n",
       "    .dataframe thead th {\n",
       "        text-align: right;\n",
       "    }\n",
       "</style>\n",
       "<table border=\"1\" class=\"dataframe\">\n",
       "  <thead>\n",
       "    <tr style=\"text-align: right;\">\n",
       "      <th></th>\n",
       "      <th>satisfaction_level</th>\n",
       "      <th>last_evaluation</th>\n",
       "      <th>number_project</th>\n",
       "      <th>average_montly_hours</th>\n",
       "      <th>time_spend_company</th>\n",
       "      <th>left</th>\n",
       "      <th>Department</th>\n",
       "      <th>salary</th>\n",
       "    </tr>\n",
       "  </thead>\n",
       "  <tbody>\n",
       "    <tr>\n",
       "      <th>satisfaction_level</th>\n",
       "      <td>1.000000</td>\n",
       "      <td>0.104674</td>\n",
       "      <td>-0.134772</td>\n",
       "      <td>-0.011954</td>\n",
       "      <td>-0.108210</td>\n",
       "      <td>-0.374634</td>\n",
       "      <td>0.017940</td>\n",
       "      <td>0.043859</td>\n",
       "    </tr>\n",
       "    <tr>\n",
       "      <th>last_evaluation</th>\n",
       "      <td>0.104674</td>\n",
       "      <td>1.000000</td>\n",
       "      <td>0.320688</td>\n",
       "      <td>0.310923</td>\n",
       "      <td>0.115185</td>\n",
       "      <td>0.003615</td>\n",
       "      <td>0.010831</td>\n",
       "      <td>-0.013977</td>\n",
       "    </tr>\n",
       "    <tr>\n",
       "      <th>number_project</th>\n",
       "      <td>-0.134772</td>\n",
       "      <td>0.320688</td>\n",
       "      <td>1.000000</td>\n",
       "      <td>0.380892</td>\n",
       "      <td>0.184066</td>\n",
       "      <td>0.019634</td>\n",
       "      <td>0.003258</td>\n",
       "      <td>-0.001169</td>\n",
       "    </tr>\n",
       "    <tr>\n",
       "      <th>average_montly_hours</th>\n",
       "      <td>-0.011954</td>\n",
       "      <td>0.310923</td>\n",
       "      <td>0.380892</td>\n",
       "      <td>1.000000</td>\n",
       "      <td>0.109062</td>\n",
       "      <td>0.069367</td>\n",
       "      <td>-0.003676</td>\n",
       "      <td>-0.004237</td>\n",
       "    </tr>\n",
       "    <tr>\n",
       "      <th>time_spend_company</th>\n",
       "      <td>-0.108210</td>\n",
       "      <td>0.115185</td>\n",
       "      <td>0.184066</td>\n",
       "      <td>0.109062</td>\n",
       "      <td>1.000000</td>\n",
       "      <td>0.137812</td>\n",
       "      <td>-0.002613</td>\n",
       "      <td>0.050586</td>\n",
       "    </tr>\n",
       "    <tr>\n",
       "      <th>left</th>\n",
       "      <td>-0.374634</td>\n",
       "      <td>0.003615</td>\n",
       "      <td>0.019634</td>\n",
       "      <td>0.069367</td>\n",
       "      <td>0.137812</td>\n",
       "      <td>1.000000</td>\n",
       "      <td>-0.049247</td>\n",
       "      <td>-0.151900</td>\n",
       "    </tr>\n",
       "    <tr>\n",
       "      <th>Department</th>\n",
       "      <td>0.017940</td>\n",
       "      <td>0.010831</td>\n",
       "      <td>0.003258</td>\n",
       "      <td>-0.003676</td>\n",
       "      <td>-0.002613</td>\n",
       "      <td>-0.049247</td>\n",
       "      <td>1.000000</td>\n",
       "      <td>0.037614</td>\n",
       "    </tr>\n",
       "    <tr>\n",
       "      <th>salary</th>\n",
       "      <td>0.043859</td>\n",
       "      <td>-0.013977</td>\n",
       "      <td>-0.001169</td>\n",
       "      <td>-0.004237</td>\n",
       "      <td>0.050586</td>\n",
       "      <td>-0.151900</td>\n",
       "      <td>0.037614</td>\n",
       "      <td>1.000000</td>\n",
       "    </tr>\n",
       "  </tbody>\n",
       "</table>\n",
       "</div>"
      ],
      "text/plain": [
       "                      satisfaction_level  last_evaluation  number_project  \\\n",
       "satisfaction_level              1.000000         0.104674       -0.134772   \n",
       "last_evaluation                 0.104674         1.000000        0.320688   \n",
       "number_project                 -0.134772         0.320688        1.000000   \n",
       "average_montly_hours           -0.011954         0.310923        0.380892   \n",
       "time_spend_company             -0.108210         0.115185        0.184066   \n",
       "left                           -0.374634         0.003615        0.019634   \n",
       "Department                      0.017940         0.010831        0.003258   \n",
       "salary                          0.043859        -0.013977       -0.001169   \n",
       "\n",
       "                      average_montly_hours  time_spend_company      left  \\\n",
       "satisfaction_level               -0.011954           -0.108210 -0.374634   \n",
       "last_evaluation                   0.310923            0.115185  0.003615   \n",
       "number_project                    0.380892            0.184066  0.019634   \n",
       "average_montly_hours              1.000000            0.109062  0.069367   \n",
       "time_spend_company                0.109062            1.000000  0.137812   \n",
       "left                              0.069367            0.137812  1.000000   \n",
       "Department                       -0.003676           -0.002613 -0.049247   \n",
       "salary                           -0.004237            0.050586 -0.151900   \n",
       "\n",
       "                      Department    salary  \n",
       "satisfaction_level      0.017940  0.043859  \n",
       "last_evaluation         0.010831 -0.013977  \n",
       "number_project          0.003258 -0.001169  \n",
       "average_montly_hours   -0.003676 -0.004237  \n",
       "time_spend_company     -0.002613  0.050586  \n",
       "left                   -0.049247 -0.151900  \n",
       "Department              1.000000  0.037614  \n",
       "salary                  0.037614  1.000000  "
      ]
     },
     "execution_count": 25,
     "metadata": {},
     "output_type": "execute_result"
    }
   ],
   "source": [
    "df.corr()"
   ]
  },
  {
   "cell_type": "code",
   "execution_count": 26,
   "id": "2727ec90",
   "metadata": {},
   "outputs": [
    {
     "data": {
      "text/plain": [
       "10.0    297\n",
       "11.0    293\n",
       "74.0    250\n",
       "77.0    245\n",
       "84.0    238\n",
       "       ... \n",
       "25.0     34\n",
       "28.0     31\n",
       "27.0     30\n",
       "26.0     29\n",
       "12.0     29\n",
       "Name: satisfaction_level, Length: 92, dtype: int64"
      ]
     },
     "execution_count": 26,
     "metadata": {},
     "output_type": "execute_result"
    }
   ],
   "source": [
    "\n",
    "df['satisfaction_level'].value_counts()"
   ]
  },
  {
   "cell_type": "code",
   "execution_count": 27,
   "id": "de9fb9b4",
   "metadata": {},
   "outputs": [
    {
     "data": {
      "text/plain": [
       "<AxesSubplot:>"
      ]
     },
     "execution_count": 27,
     "metadata": {},
     "output_type": "execute_result"
    },
    {
     "data": {
      "image/png": "[encoded data removed]",
      "text/plain": [
       "<Figure size 432x288 with 2 Axes>"
      ]
     },
     "metadata": {
      "needs_background": "light"
     },
     "output_type": "display_data"
    }
   ],
   "source": [
    "sns.heatmap(df.corr())"
   ]
  },
  {
   "cell_type": "code",
   "execution_count": 28,
   "id": "60b643e4",
   "metadata": {},
   "outputs": [
    {
     "data": {
      "text/html": [
       "<div>\n",
       "<style scoped>\n",
       "    .dataframe tbody tr th:only-of-type {\n",
       "        vertical-align: middle;\n",
       "    }\n",
       "\n",
       "    .dataframe tbody tr th {\n",
       "        vertical-align: top;\n",
       "    }\n",
       "\n",
       "    .dataframe thead th {\n",
       "        text-align: right;\n",
       "    }\n",
       "</style>\n",
       "<table border=\"1\" class=\"dataframe\">\n",
       "  <thead>\n",
       "    <tr style=\"text-align: right;\">\n",
       "      <th></th>\n",
       "      <th>satisfaction_level</th>\n",
       "      <th>last_evaluation</th>\n",
       "      <th>number_project</th>\n",
       "      <th>average_montly_hours</th>\n",
       "      <th>time_spend_company</th>\n",
       "      <th>left</th>\n",
       "      <th>Department</th>\n",
       "      <th>salary</th>\n",
       "    </tr>\n",
       "  </thead>\n",
       "  <tbody>\n",
       "    <tr>\n",
       "      <th>count</th>\n",
       "      <td>14462.000000</td>\n",
       "      <td>14462.000000</td>\n",
       "      <td>14462.000000</td>\n",
       "      <td>14462.000000</td>\n",
       "      <td>14462.000000</td>\n",
       "      <td>14462.000000</td>\n",
       "      <td>14462.000000</td>\n",
       "      <td>14462.000000</td>\n",
       "    </tr>\n",
       "    <tr>\n",
       "      <th>mean</th>\n",
       "      <td>61.939911</td>\n",
       "      <td>71.579035</td>\n",
       "      <td>3.798852</td>\n",
       "      <td>200.822673</td>\n",
       "      <td>3.484649</td>\n",
       "      <td>0.209791</td>\n",
       "      <td>4.337298</td>\n",
       "      <td>1.600885</td>\n",
       "    </tr>\n",
       "    <tr>\n",
       "      <th>std</th>\n",
       "      <td>24.561754</td>\n",
       "      <td>17.016068</td>\n",
       "      <td>1.204774</td>\n",
       "      <td>49.312734</td>\n",
       "      <td>1.473367</td>\n",
       "      <td>0.407174</td>\n",
       "      <td>2.822169</td>\n",
       "      <td>0.639626</td>\n",
       "    </tr>\n",
       "    <tr>\n",
       "      <th>min</th>\n",
       "      <td>9.000000</td>\n",
       "      <td>36.000000</td>\n",
       "      <td>2.000000</td>\n",
       "      <td>96.000000</td>\n",
       "      <td>2.000000</td>\n",
       "      <td>0.000000</td>\n",
       "      <td>1.000000</td>\n",
       "      <td>1.000000</td>\n",
       "    </tr>\n",
       "    <tr>\n",
       "      <th>25%</th>\n",
       "      <td>45.000000</td>\n",
       "      <td>56.000000</td>\n",
       "      <td>3.000000</td>\n",
       "      <td>157.000000</td>\n",
       "      <td>3.000000</td>\n",
       "      <td>0.000000</td>\n",
       "      <td>1.000000</td>\n",
       "      <td>1.000000</td>\n",
       "    </tr>\n",
       "    <tr>\n",
       "      <th>50%</th>\n",
       "      <td>65.000000</td>\n",
       "      <td>72.000000</td>\n",
       "      <td>4.000000</td>\n",
       "      <td>200.000000</td>\n",
       "      <td>3.000000</td>\n",
       "      <td>0.000000</td>\n",
       "      <td>4.000000</td>\n",
       "      <td>2.000000</td>\n",
       "    </tr>\n",
       "    <tr>\n",
       "      <th>75%</th>\n",
       "      <td>82.000000</td>\n",
       "      <td>87.000000</td>\n",
       "      <td>5.000000</td>\n",
       "      <td>244.000000</td>\n",
       "      <td>4.000000</td>\n",
       "      <td>0.000000</td>\n",
       "      <td>7.000000</td>\n",
       "      <td>2.000000</td>\n",
       "    </tr>\n",
       "    <tr>\n",
       "      <th>max</th>\n",
       "      <td>100.000000</td>\n",
       "      <td>100.000000</td>\n",
       "      <td>7.000000</td>\n",
       "      <td>310.000000</td>\n",
       "      <td>10.000000</td>\n",
       "      <td>1.000000</td>\n",
       "      <td>10.000000</td>\n",
       "      <td>3.000000</td>\n",
       "    </tr>\n",
       "  </tbody>\n",
       "</table>\n",
       "</div>"
      ],
      "text/plain": [
       "       satisfaction_level  last_evaluation  number_project  \\\n",
       "count        14462.000000     14462.000000    14462.000000   \n",
       "mean            61.939911        71.579035        3.798852   \n",
       "std             24.561754        17.016068        1.204774   \n",
       "min              9.000000        36.000000        2.000000   \n",
       "25%             45.000000        56.000000        3.000000   \n",
       "50%             65.000000        72.000000        4.000000   \n",
       "75%             82.000000        87.000000        5.000000   \n",
       "max            100.000000       100.000000        7.000000   \n",
       "\n",
       "       average_montly_hours  time_spend_company          left    Department  \\\n",
       "count          14462.000000        14462.000000  14462.000000  14462.000000   \n",
       "mean             200.822673            3.484649      0.209791      4.337298   \n",
       "std               49.312734            1.473367      0.407174      2.822169   \n",
       "min               96.000000            2.000000      0.000000      1.000000   \n",
       "25%              157.000000            3.000000      0.000000      1.000000   \n",
       "50%              200.000000            3.000000      0.000000      4.000000   \n",
       "75%              244.000000            4.000000      0.000000      7.000000   \n",
       "max              310.000000           10.000000      1.000000     10.000000   \n",
       "\n",
       "             salary  \n",
       "count  14462.000000  \n",
       "mean       1.600885  \n",
       "std        0.639626  \n",
       "min        1.000000  \n",
       "25%        1.000000  \n",
       "50%        2.000000  \n",
       "75%        2.000000  \n",
       "max        3.000000  "
      ]
     },
     "execution_count": 28,
     "metadata": {},
     "output_type": "execute_result"
    }
   ],
   "source": [
    "df.describe()\n"
   ]
  },
  {
   "cell_type": "code",
   "execution_count": 29,
   "id": "281f03f6",
   "metadata": {},
   "outputs": [
    {
     "name": "stdout",
     "output_type": "stream",
     "text": [
      "Total Values After Data Cleaning : 115696\n"
     ]
    }
   ],
   "source": [
    "values=df.size\n",
    "print(\"Total Values After Data Cleaning :\" ,values)"
   ]
  },
  {
   "cell_type": "code",
   "execution_count": 30,
   "id": "89ad46e3",
   "metadata": {},
   "outputs": [
    {
     "name": "stdout",
     "output_type": "stream",
     "text": [
      "useful data after data cleaning in percentage is : 77.13580905393694\n"
     ]
    }
   ],
   "source": [
    "Data=((values/total_values)*100)\n",
    "print(\"useful data after data cleaning in percentage is :\", Data)"
   ]
  },
  {
   "cell_type": "markdown",
   "id": "741b0f03",
   "metadata": {
    "scrolled": false
   },
   "source": [
    "# Export CSV File"
   ]
  },
  {
   "cell_type": "code",
   "execution_count": null,
   "id": "5d57b9ab",
   "metadata": {},
   "outputs": [],
   "source": []
  },
  {
   "cell_type": "code",
   "execution_count": 31,
   "id": "225032c2",
   "metadata": {},
   "outputs": [],
   "source": [
    "df.to_csv(\"C:\\\\Users\\\\Vinay\\\\OneDrive\\\\Desktop\\\\B2_56306_Vinay\\\\Project\\\\project\\\\New_HR_Employee_Data.csv\",index=False)"
   ]
  },
  {
   "cell_type": "code",
   "execution_count": null,
   "id": "d96bd462",
   "metadata": {},
   "outputs": [],
   "source": []
  },
  {
   "cell_type": "code",
   "execution_count": 32,
   "id": "eb7f36fb",
   "metadata": {},
   "outputs": [
    {
     "data": {
      "text/plain": [
       "0.0    11428\n",
       "1.0     3034\n",
       "Name: left, dtype: int64"
      ]
     },
     "execution_count": 32,
     "metadata": {},
     "output_type": "execute_result"
    }
   ],
   "source": [
    "df['left'].value_counts()\n"
   ]
  },
  {
   "cell_type": "markdown",
   "id": "1500eb90",
   "metadata": {},
   "source": [
    "## decide the dependent and independent variables"
   ]
  },
  {
   "cell_type": "code",
   "execution_count": 33,
   "id": "efc3db88",
   "metadata": {},
   "outputs": [],
   "source": [
    "x = df.drop(['left'], axis=1)\n",
    "y = df.left"
   ]
  },
  {
   "cell_type": "markdown",
   "id": "41e258e0",
   "metadata": {},
   "source": [
    "## split the data into train and test sets"
   ]
  },
  {
   "cell_type": "code",
   "execution_count": 34,
   "id": "3bb6cae6",
   "metadata": {},
   "outputs": [],
   "source": [
    "from sklearn.model_selection import train_test_split\n",
    "\n",
    "x_train, x_test, y_train, y_test = train_test_split(x, y, train_size=0.8, random_state=1234567)"
   ]
  },
  {
   "cell_type": "code",
   "execution_count": null,
   "id": "b3d007f9",
   "metadata": {},
   "outputs": [],
   "source": []
  },
  {
   "cell_type": "markdown",
   "id": "a2aaf440",
   "metadata": {},
   "source": [
    "## create and train the model"
   ]
  },
  {
   "cell_type": "code",
   "execution_count": 44,
   "id": "02d90cfc",
   "metadata": {},
   "outputs": [],
   "source": []
  },
  {
   "cell_type": "code",
   "execution_count": null,
   "id": "17b96014",
   "metadata": {},
   "outputs": [],
   "source": []
  },
  {
   "cell_type": "code",
   "execution_count": 40,
   "id": "4ec17423",
   "metadata": {},
   "outputs": [],
   "source": [
    "from sklearn.svm import SVC\n",
    "    \n",
    "    # create the model\n",
    "model = SVC()\n",
    "    \n",
    "    # train the model\n",
    "model.fit(x_train, y_train)\n",
    "    \n",
    "predictions = model.predict(x_test)    "
   ]
  },
  {
   "cell_type": "markdown",
   "id": "dc11d735",
   "metadata": {},
   "source": [
    "## model evluation"
   ]
  },
  {
   "cell_type": "code",
   "execution_count": 50,
   "id": "d2450738",
   "metadata": {},
   "outputs": [],
   "source": [
    "from sklearn.metrics import confusion_matrix,accuracy_score, precision_score, recall_score, f1_score , classification_report\n"
   ]
  },
  {
   "cell_type": "code",
   "execution_count": 41,
   "id": "d5afc5c7",
   "metadata": {},
   "outputs": [
    {
     "data": {
      "text/plain": [
       "array([[2176,   87],\n",
       "       [ 336,  294]], dtype=int64)"
      ]
     },
     "execution_count": 41,
     "metadata": {},
     "output_type": "execute_result"
    }
   ],
   "source": [
    "cm = confusion_matrix(y_test, predictions)\n",
    "cm"
   ]
  },
  {
   "cell_type": "code",
   "execution_count": 42,
   "id": "5b367e3d",
   "metadata": {
    "scrolled": true
   },
   "outputs": [
    {
     "name": "stdout",
     "output_type": "stream",
     "text": [
      "accuracy = 85.38%\n"
     ]
    }
   ],
   "source": [
    "accuracy = accuracy_score(y_test, predictions)\n",
    "print(f\"accuracy = {accuracy * 100:.2f}%\")"
   ]
  },
  {
   "cell_type": "code",
   "execution_count": null,
   "id": "f940486d",
   "metadata": {},
   "outputs": [],
   "source": []
  },
  {
   "cell_type": "code",
   "execution_count": 45,
   "id": "3ba349e6",
   "metadata": {},
   "outputs": [
    {
     "name": "stdout",
     "output_type": "stream",
     "text": [
      "              precision    recall  f1-score   support\n",
      "\n",
      "         0.0       0.87      0.96      0.91      2263\n",
      "         1.0       0.77      0.47      0.58       630\n",
      "\n",
      "    accuracy                           0.85      2893\n",
      "   macro avg       0.82      0.71      0.75      2893\n",
      "weighted avg       0.85      0.85      0.84      2893\n",
      "\n"
     ]
    }
   ],
   "source": [
    "print(classification_report(y_test, predictions))"
   ]
  },
  {
   "cell_type": "code",
   "execution_count": 46,
   "id": "fd15cd48",
   "metadata": {
    "scrolled": false
   },
   "outputs": [
    {
     "name": "stdout",
     "output_type": "stream",
     "text": [
      "[0.]\n"
     ]
    },
    {
     "name": "stderr",
     "output_type": "stream",
     "text": [
      "c:\\users\\vinay\\appdata\\local\\programs\\python\\python39\\lib\\site-packages\\sklearn\\base.py:445: UserWarning: X does not have valid feature names, but SVC was fitted with feature names\n",
      "  warnings.warn(\n"
     ]
    }
   ],
   "source": [
    "pre=model.predict([[90,90,3,200,4,3,2]])\n",
    "print(pre)"
   ]
  },
  {
   "cell_type": "code",
   "execution_count": 48,
   "id": "ee902302",
   "metadata": {},
   "outputs": [
    {
     "name": "stdout",
     "output_type": "stream",
     "text": [
      "[1.]\n"
     ]
    },
    {
     "name": "stderr",
     "output_type": "stream",
     "text": [
      "c:\\users\\vinay\\appdata\\local\\programs\\python\\python39\\lib\\site-packages\\sklearn\\base.py:445: UserWarning: X does not have valid feature names, but SVC was fitted with feature names\n",
      "  warnings.warn(\n"
     ]
    }
   ],
   "source": [
    "pre=model.predict([[11,30,6,35,4,3,2]])\n",
    "print(pre)"
   ]
  },
  {
   "cell_type": "code",
   "execution_count": null,
   "id": "22f1eda3",
   "metadata": {},
   "outputs": [],
   "source": []
  },
  {
   "cell_type": "code",
   "execution_count": null,
   "id": "0563f0a8",
   "metadata": {},
   "outputs": [],
   "source": []
  },
  {
   "cell_type": "code",
   "execution_count": null,
   "id": "1bc66fc9",
   "metadata": {},
   "outputs": [],
   "source": []
  },
  {
   "cell_type": "code",
   "execution_count": null,
   "id": "a24bf39c",
   "metadata": {},
   "outputs": [],
   "source": []
  },
  {
   "cell_type": "code",
   "execution_count": null,
   "id": "700c731f",
   "metadata": {},
   "outputs": [],
   "source": []
  },
  {
   "cell_type": "code",
   "execution_count": null,
   "id": "39a18256",
   "metadata": {},
   "outputs": [],
   "source": []
  },
  {
   "cell_type": "code",
   "execution_count": null,
   "id": "262da158",
   "metadata": {},
   "outputs": [],
   "source": []
  },
  {
   "cell_type": "code",
   "execution_count": null,
   "id": "b69752b5",
   "metadata": {},
   "outputs": [],
   "source": []
  }
 ],
 "metadata": {
  "kernelspec": {
   "display_name": "Python 3 (ipykernel)",
   "language": "python",
   "name": "python3"
  },
  "language_info": {
   "codemirror_mode": {
    "name": "ipython",
    "version": 3
   },
   "file_extension": ".py",
   "mimetype": "text/x-python",
   "name": "python",
   "nbconvert_exporter": "python",
   "pygments_lexer": "ipython3",
   "version": "3.9.2"
  }
 },
 "nbformat": 4,
 "nbformat_minor": 5
}
