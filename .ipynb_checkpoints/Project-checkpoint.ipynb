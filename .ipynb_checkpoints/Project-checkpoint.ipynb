{
 "cells": [
  {
   "cell_type": "markdown",
   "id": "e361f37d",
   "metadata": {},
   "source": [
    "## Import packages"
   ]
  },
  {
   "cell_type": "code",
   "execution_count": null,
   "id": "4cac1226",
   "metadata": {},
   "outputs": [],
   "source": []
  },
  {
   "cell_type": "code",
   "execution_count": 548,
   "id": "a549e18a",
   "metadata": {},
   "outputs": [],
   "source": [
    "import pandas as pd\n",
    "import numpy as np\n",
    "import matplotlib.pyplot as plt\n",
    "import seaborn as sns\n"
   ]
  },
  {
   "cell_type": "markdown",
   "id": "9f39d799",
   "metadata": {},
   "source": [
    "## Read dataset"
   ]
  },
  {
   "cell_type": "code",
   "execution_count": 549,
   "id": "325313b5",
   "metadata": {},
   "outputs": [],
   "source": [
    "df=pd.read_csv(\"./HR_Employee_Data.csv\")\n"
   ]
  },
  {
   "cell_type": "markdown",
   "id": "50ba4d9c",
   "metadata": {},
   "source": [
    "## Exploratory data analysis"
   ]
  },
  {
   "cell_type": "code",
   "execution_count": 550,
   "id": "64f32d8e",
   "metadata": {},
   "outputs": [
    {
     "name": "stdout",
     "output_type": "stream",
     "text": [
      "<class 'pandas.core.frame.DataFrame'>\n",
      "RangeIndex: 14999 entries, 0 to 14998\n",
      "Data columns (total 10 columns):\n",
      " #   Column                 Non-Null Count  Dtype  \n",
      "---  ------                 --------------  -----  \n",
      " 0   Emp_Id                 14995 non-null  object \n",
      " 1   satisfaction_level     14968 non-null  object \n",
      " 2   last_evaluation        14949 non-null  object \n",
      " 3   number_project         14927 non-null  float64\n",
      " 4   average_montly_hours   14898 non-null  float64\n",
      " 5   time_spend_company     14912 non-null  float64\n",
      " 6   left                   14783 non-null  float64\n",
      " 7   promotion_last_5years  3079 non-null   float64\n",
      " 8   Department             14919 non-null  object \n",
      " 9   salary                 14902 non-null  object \n",
      "dtypes: float64(5), object(5)\n",
      "memory usage: 1.1+ MB\n"
     ]
    }
   ],
   "source": [
    "df.info()"
   ]
  },
  {
   "cell_type": "code",
   "execution_count": 551,
   "id": "f5743562",
   "metadata": {},
   "outputs": [
    {
     "data": {
      "text/plain": [
       "Index(['Emp_Id', 'satisfaction_level', 'last_evaluation', 'number_project',\n",
       "       'average_montly_hours', 'time_spend_company', 'left',\n",
       "       'promotion_last_5years', 'Department', 'salary'],\n",
       "      dtype='object')"
      ]
     },
     "execution_count": 551,
     "metadata": {},
     "output_type": "execute_result"
    }
   ],
   "source": [
    "df.columns"
   ]
  },
  {
   "cell_type": "markdown",
   "id": "5a7f401a",
   "metadata": {},
   "source": [
    "## Data cleanig"
   ]
  },
  {
   "cell_type": "markdown",
   "id": "2528a257",
   "metadata": {},
   "source": [
    "### Convert data string into integer"
   ]
  },
  {
   "cell_type": "code",
   "execution_count": 552,
   "id": "e3aafb4d",
   "metadata": {},
   "outputs": [
    {
     "name": "stdout",
     "output_type": "stream",
     "text": [
      "     Emp_Id satisfaction_level last_evaluation  number_project  \\\n",
      "0  IND02438                38%              53             2.0   \n",
      "1  IND28133                80%              86             5.0   \n",
      "2  IND07164                11%              88             7.0   \n",
      "3  IND30478                72%              87             5.0   \n",
      "4  IND24003                NaN              52             2.0   \n",
      "\n",
      "   average_montly_hours  time_spend_company  left  promotion_last_5years  \\\n",
      "0                 157.0                 3.0   1.0                    NaN   \n",
      "1                 262.0                 6.0   1.0                    NaN   \n",
      "2                 272.0                 4.0   1.0                    NaN   \n",
      "3                 223.0                 5.0   1.0                    NaN   \n",
      "4                 159.0                 3.0   1.0                    NaN   \n",
      "\n",
      "  Department  salary  \n",
      "0      sales     low  \n",
      "1      sales  medium  \n",
      "2      sales  medium  \n",
      "3      sales     low  \n",
      "4      sales     low  \n"
     ]
    },
    {
     "name": "stderr",
     "output_type": "stream",
     "text": [
      "C:\\Users\\Vinay\\AppData\\Local\\Temp/ipykernel_11604/3809622228.py:1: FutureWarning: The default value of regex will change from True to False in a future version.\n",
      "  df['last_evaluation'] = df['last_evaluation'].str.replace(r'\\W',\"\")\n"
     ]
    }
   ],
   "source": [
    "df['last_evaluation'] = df['last_evaluation'].str.replace(r'\\W',\"\")\n",
    "print(df.head())"
   ]
  },
  {
   "cell_type": "code",
   "execution_count": 553,
   "id": "64d8e051",
   "metadata": {},
   "outputs": [
    {
     "name": "stdout",
     "output_type": "stream",
     "text": [
      "     Emp_Id satisfaction_level last_evaluation  number_project  \\\n",
      "0  IND02438                 38              53             2.0   \n",
      "1  IND28133                 80              86             5.0   \n",
      "2  IND07164                 11              88             7.0   \n",
      "3  IND30478                 72              87             5.0   \n",
      "4  IND24003                NaN              52             2.0   \n",
      "\n",
      "   average_montly_hours  time_spend_company  left  promotion_last_5years  \\\n",
      "0                 157.0                 3.0   1.0                    NaN   \n",
      "1                 262.0                 6.0   1.0                    NaN   \n",
      "2                 272.0                 4.0   1.0                    NaN   \n",
      "3                 223.0                 5.0   1.0                    NaN   \n",
      "4                 159.0                 3.0   1.0                    NaN   \n",
      "\n",
      "  Department  salary  \n",
      "0      sales     low  \n",
      "1      sales  medium  \n",
      "2      sales  medium  \n",
      "3      sales     low  \n",
      "4      sales     low  \n"
     ]
    },
    {
     "name": "stderr",
     "output_type": "stream",
     "text": [
      "C:\\Users\\Vinay\\AppData\\Local\\Temp/ipykernel_11604/3669955093.py:1: FutureWarning: The default value of regex will change from True to False in a future version.\n",
      "  df['satisfaction_level']= df['satisfaction_level'].str.replace(r'\\W',\"\")\n"
     ]
    }
   ],
   "source": [
    "df['satisfaction_level']= df['satisfaction_level'].str.replace(r'\\W',\"\")\n",
    "print(df.head())"
   ]
  },
  {
   "cell_type": "markdown",
   "id": "698d491b",
   "metadata": {},
   "source": [
    "### Convert textualvalues into numeric value"
   ]
  },
  {
   "cell_type": "code",
   "execution_count": 554,
   "id": "a2851ed3",
   "metadata": {},
   "outputs": [],
   "source": [
    "from sklearn.preprocessing import LabelEncoder\n",
    "\n",
    "lable_Encoder=LabelEncoder()\n",
    "\n",
    "df['Department']=lable_Encoder.fit_transform(df['Department'])"
   ]
  },
  {
   "cell_type": "code",
   "execution_count": 555,
   "id": "d330fd41",
   "metadata": {},
   "outputs": [
    {
     "data": {
      "text/html": [
       "<div>\n",
       "<style scoped>\n",
       "    .dataframe tbody tr th:only-of-type {\n",
       "        vertical-align: middle;\n",
       "    }\n",
       "\n",
       "    .dataframe tbody tr th {\n",
       "        vertical-align: top;\n",
       "    }\n",
       "\n",
       "    .dataframe thead th {\n",
       "        text-align: right;\n",
       "    }\n",
       "</style>\n",
       "<table border=\"1\" class=\"dataframe\">\n",
       "  <thead>\n",
       "    <tr style=\"text-align: right;\">\n",
       "      <th></th>\n",
       "      <th>Emp_Id</th>\n",
       "      <th>satisfaction_level</th>\n",
       "      <th>last_evaluation</th>\n",
       "      <th>number_project</th>\n",
       "      <th>average_montly_hours</th>\n",
       "      <th>time_spend_company</th>\n",
       "      <th>left</th>\n",
       "      <th>promotion_last_5years</th>\n",
       "      <th>Department</th>\n",
       "      <th>salary</th>\n",
       "    </tr>\n",
       "  </thead>\n",
       "  <tbody>\n",
       "    <tr>\n",
       "      <th>0</th>\n",
       "      <td>IND02438</td>\n",
       "      <td>38</td>\n",
       "      <td>53</td>\n",
       "      <td>2.0</td>\n",
       "      <td>157.0</td>\n",
       "      <td>3.0</td>\n",
       "      <td>1.0</td>\n",
       "      <td>NaN</td>\n",
       "      <td>7</td>\n",
       "      <td>low</td>\n",
       "    </tr>\n",
       "    <tr>\n",
       "      <th>1</th>\n",
       "      <td>IND28133</td>\n",
       "      <td>80</td>\n",
       "      <td>86</td>\n",
       "      <td>5.0</td>\n",
       "      <td>262.0</td>\n",
       "      <td>6.0</td>\n",
       "      <td>1.0</td>\n",
       "      <td>NaN</td>\n",
       "      <td>7</td>\n",
       "      <td>medium</td>\n",
       "    </tr>\n",
       "    <tr>\n",
       "      <th>2</th>\n",
       "      <td>IND07164</td>\n",
       "      <td>11</td>\n",
       "      <td>88</td>\n",
       "      <td>7.0</td>\n",
       "      <td>272.0</td>\n",
       "      <td>4.0</td>\n",
       "      <td>1.0</td>\n",
       "      <td>NaN</td>\n",
       "      <td>7</td>\n",
       "      <td>medium</td>\n",
       "    </tr>\n",
       "    <tr>\n",
       "      <th>3</th>\n",
       "      <td>IND30478</td>\n",
       "      <td>72</td>\n",
       "      <td>87</td>\n",
       "      <td>5.0</td>\n",
       "      <td>223.0</td>\n",
       "      <td>5.0</td>\n",
       "      <td>1.0</td>\n",
       "      <td>NaN</td>\n",
       "      <td>7</td>\n",
       "      <td>low</td>\n",
       "    </tr>\n",
       "    <tr>\n",
       "      <th>4</th>\n",
       "      <td>IND24003</td>\n",
       "      <td>NaN</td>\n",
       "      <td>52</td>\n",
       "      <td>2.0</td>\n",
       "      <td>159.0</td>\n",
       "      <td>3.0</td>\n",
       "      <td>1.0</td>\n",
       "      <td>NaN</td>\n",
       "      <td>7</td>\n",
       "      <td>low</td>\n",
       "    </tr>\n",
       "  </tbody>\n",
       "</table>\n",
       "</div>"
      ],
      "text/plain": [
       "     Emp_Id satisfaction_level last_evaluation  number_project  \\\n",
       "0  IND02438                 38              53             2.0   \n",
       "1  IND28133                 80              86             5.0   \n",
       "2  IND07164                 11              88             7.0   \n",
       "3  IND30478                 72              87             5.0   \n",
       "4  IND24003                NaN              52             2.0   \n",
       "\n",
       "   average_montly_hours  time_spend_company  left  promotion_last_5years  \\\n",
       "0                 157.0                 3.0   1.0                    NaN   \n",
       "1                 262.0                 6.0   1.0                    NaN   \n",
       "2                 272.0                 4.0   1.0                    NaN   \n",
       "3                 223.0                 5.0   1.0                    NaN   \n",
       "4                 159.0                 3.0   1.0                    NaN   \n",
       "\n",
       "   Department  salary  \n",
       "0           7     low  \n",
       "1           7  medium  \n",
       "2           7  medium  \n",
       "3           7     low  \n",
       "4           7     low  "
      ]
     },
     "execution_count": 555,
     "metadata": {},
     "output_type": "execute_result"
    }
   ],
   "source": [
    "df.head()"
   ]
  },
  {
   "cell_type": "code",
   "execution_count": null,
   "id": "10ded13d",
   "metadata": {},
   "outputs": [],
   "source": []
  },
  {
   "cell_type": "code",
   "execution_count": 556,
   "id": "a96951a4",
   "metadata": {
    "scrolled": true
   },
   "outputs": [
    {
     "data": {
      "text/html": [
       "<div>\n",
       "<style scoped>\n",
       "    .dataframe tbody tr th:only-of-type {\n",
       "        vertical-align: middle;\n",
       "    }\n",
       "\n",
       "    .dataframe tbody tr th {\n",
       "        vertical-align: top;\n",
       "    }\n",
       "\n",
       "    .dataframe thead th {\n",
       "        text-align: right;\n",
       "    }\n",
       "</style>\n",
       "<table border=\"1\" class=\"dataframe\">\n",
       "  <thead>\n",
       "    <tr style=\"text-align: right;\">\n",
       "      <th></th>\n",
       "      <th>Emp_Id</th>\n",
       "      <th>satisfaction_level</th>\n",
       "      <th>last_evaluation</th>\n",
       "      <th>number_project</th>\n",
       "      <th>average_montly_hours</th>\n",
       "      <th>time_spend_company</th>\n",
       "      <th>left</th>\n",
       "      <th>promotion_last_5years</th>\n",
       "      <th>Department</th>\n",
       "      <th>salary</th>\n",
       "    </tr>\n",
       "  </thead>\n",
       "  <tbody>\n",
       "    <tr>\n",
       "      <th>0</th>\n",
       "      <td>IND02438</td>\n",
       "      <td>38</td>\n",
       "      <td>53</td>\n",
       "      <td>2.0</td>\n",
       "      <td>157.0</td>\n",
       "      <td>3.0</td>\n",
       "      <td>1.0</td>\n",
       "      <td>NaN</td>\n",
       "      <td>7</td>\n",
       "      <td>1</td>\n",
       "    </tr>\n",
       "    <tr>\n",
       "      <th>1</th>\n",
       "      <td>IND28133</td>\n",
       "      <td>80</td>\n",
       "      <td>86</td>\n",
       "      <td>5.0</td>\n",
       "      <td>262.0</td>\n",
       "      <td>6.0</td>\n",
       "      <td>1.0</td>\n",
       "      <td>NaN</td>\n",
       "      <td>7</td>\n",
       "      <td>2</td>\n",
       "    </tr>\n",
       "    <tr>\n",
       "      <th>2</th>\n",
       "      <td>IND07164</td>\n",
       "      <td>11</td>\n",
       "      <td>88</td>\n",
       "      <td>7.0</td>\n",
       "      <td>272.0</td>\n",
       "      <td>4.0</td>\n",
       "      <td>1.0</td>\n",
       "      <td>NaN</td>\n",
       "      <td>7</td>\n",
       "      <td>2</td>\n",
       "    </tr>\n",
       "    <tr>\n",
       "      <th>3</th>\n",
       "      <td>IND30478</td>\n",
       "      <td>72</td>\n",
       "      <td>87</td>\n",
       "      <td>5.0</td>\n",
       "      <td>223.0</td>\n",
       "      <td>5.0</td>\n",
       "      <td>1.0</td>\n",
       "      <td>NaN</td>\n",
       "      <td>7</td>\n",
       "      <td>1</td>\n",
       "    </tr>\n",
       "    <tr>\n",
       "      <th>4</th>\n",
       "      <td>IND24003</td>\n",
       "      <td>NaN</td>\n",
       "      <td>52</td>\n",
       "      <td>2.0</td>\n",
       "      <td>159.0</td>\n",
       "      <td>3.0</td>\n",
       "      <td>1.0</td>\n",
       "      <td>NaN</td>\n",
       "      <td>7</td>\n",
       "      <td>1</td>\n",
       "    </tr>\n",
       "  </tbody>\n",
       "</table>\n",
       "</div>"
      ],
      "text/plain": [
       "     Emp_Id satisfaction_level last_evaluation  number_project  \\\n",
       "0  IND02438                 38              53             2.0   \n",
       "1  IND28133                 80              86             5.0   \n",
       "2  IND07164                 11              88             7.0   \n",
       "3  IND30478                 72              87             5.0   \n",
       "4  IND24003                NaN              52             2.0   \n",
       "\n",
       "   average_montly_hours  time_spend_company  left  promotion_last_5years  \\\n",
       "0                 157.0                 3.0   1.0                    NaN   \n",
       "1                 262.0                 6.0   1.0                    NaN   \n",
       "2                 272.0                 4.0   1.0                    NaN   \n",
       "3                 223.0                 5.0   1.0                    NaN   \n",
       "4                 159.0                 3.0   1.0                    NaN   \n",
       "\n",
       "   Department  salary  \n",
       "0           7       1  \n",
       "1           7       2  \n",
       "2           7       2  \n",
       "3           7       1  \n",
       "4           7       1  "
      ]
     },
     "execution_count": 556,
     "metadata": {},
     "output_type": "execute_result"
    }
   ],
   "source": [
    "from sklearn.preprocessing import LabelEncoder\n",
    "\n",
    "lable_Encoder=LabelEncoder()\n",
    "\n",
    "df['salary']=lable_Encoder.fit_transform(df['salary'])\n",
    "df.head()"
   ]
  },
  {
   "cell_type": "markdown",
   "id": "3540e722",
   "metadata": {},
   "source": [
    "### Find null data into columns"
   ]
  },
  {
   "cell_type": "code",
   "execution_count": 557,
   "id": "cca60c28",
   "metadata": {
    "scrolled": false
   },
   "outputs": [
    {
     "data": {
      "text/plain": [
       "Emp_Id                       4\n",
       "satisfaction_level          31\n",
       "last_evaluation             50\n",
       "number_project              72\n",
       "average_montly_hours       101\n",
       "time_spend_company          87\n",
       "left                       216\n",
       "promotion_last_5years    11920\n",
       "Department                   0\n",
       "salary                       0\n",
       "dtype: int64"
      ]
     },
     "execution_count": 557,
     "metadata": {},
     "output_type": "execute_result"
    }
   ],
   "source": [
    "df.isna().sum()"
   ]
  },
  {
   "cell_type": "markdown",
   "id": "96795a47",
   "metadata": {},
   "source": []
  },
  {
   "cell_type": "code",
   "execution_count": 558,
   "id": "6f7ec5a9",
   "metadata": {},
   "outputs": [
    {
     "data": {
      "text/html": [
       "<div>\n",
       "<style scoped>\n",
       "    .dataframe tbody tr th:only-of-type {\n",
       "        vertical-align: middle;\n",
       "    }\n",
       "\n",
       "    .dataframe tbody tr th {\n",
       "        vertical-align: top;\n",
       "    }\n",
       "\n",
       "    .dataframe thead th {\n",
       "        text-align: right;\n",
       "    }\n",
       "</style>\n",
       "<table border=\"1\" class=\"dataframe\">\n",
       "  <thead>\n",
       "    <tr style=\"text-align: right;\">\n",
       "      <th></th>\n",
       "      <th>Emp_Id</th>\n",
       "      <th>satisfaction_level</th>\n",
       "      <th>last_evaluation</th>\n",
       "      <th>number_project</th>\n",
       "      <th>average_montly_hours</th>\n",
       "      <th>time_spend_company</th>\n",
       "      <th>left</th>\n",
       "      <th>promotion_last_5years</th>\n",
       "      <th>Department</th>\n",
       "      <th>salary</th>\n",
       "    </tr>\n",
       "  </thead>\n",
       "  <tbody>\n",
       "    <tr>\n",
       "      <th>0</th>\n",
       "      <td>IND02438</td>\n",
       "      <td>38</td>\n",
       "      <td>53</td>\n",
       "      <td>2.0</td>\n",
       "      <td>157.0</td>\n",
       "      <td>3.0</td>\n",
       "      <td>1.0</td>\n",
       "      <td>NaN</td>\n",
       "      <td>7</td>\n",
       "      <td>1</td>\n",
       "    </tr>\n",
       "    <tr>\n",
       "      <th>1</th>\n",
       "      <td>IND28133</td>\n",
       "      <td>80</td>\n",
       "      <td>86</td>\n",
       "      <td>5.0</td>\n",
       "      <td>262.0</td>\n",
       "      <td>6.0</td>\n",
       "      <td>1.0</td>\n",
       "      <td>NaN</td>\n",
       "      <td>7</td>\n",
       "      <td>2</td>\n",
       "    </tr>\n",
       "    <tr>\n",
       "      <th>2</th>\n",
       "      <td>IND07164</td>\n",
       "      <td>11</td>\n",
       "      <td>88</td>\n",
       "      <td>7.0</td>\n",
       "      <td>272.0</td>\n",
       "      <td>4.0</td>\n",
       "      <td>1.0</td>\n",
       "      <td>NaN</td>\n",
       "      <td>7</td>\n",
       "      <td>2</td>\n",
       "    </tr>\n",
       "    <tr>\n",
       "      <th>3</th>\n",
       "      <td>IND30478</td>\n",
       "      <td>72</td>\n",
       "      <td>87</td>\n",
       "      <td>5.0</td>\n",
       "      <td>223.0</td>\n",
       "      <td>5.0</td>\n",
       "      <td>1.0</td>\n",
       "      <td>NaN</td>\n",
       "      <td>7</td>\n",
       "      <td>1</td>\n",
       "    </tr>\n",
       "    <tr>\n",
       "      <th>4</th>\n",
       "      <td>IND24003</td>\n",
       "      <td>NaN</td>\n",
       "      <td>52</td>\n",
       "      <td>2.0</td>\n",
       "      <td>159.0</td>\n",
       "      <td>3.0</td>\n",
       "      <td>1.0</td>\n",
       "      <td>NaN</td>\n",
       "      <td>7</td>\n",
       "      <td>1</td>\n",
       "    </tr>\n",
       "    <tr>\n",
       "      <th>...</th>\n",
       "      <td>...</td>\n",
       "      <td>...</td>\n",
       "      <td>...</td>\n",
       "      <td>...</td>\n",
       "      <td>...</td>\n",
       "      <td>...</td>\n",
       "      <td>...</td>\n",
       "      <td>...</td>\n",
       "      <td>...</td>\n",
       "      <td>...</td>\n",
       "    </tr>\n",
       "    <tr>\n",
       "      <th>14994</th>\n",
       "      <td>IND40221</td>\n",
       "      <td>40</td>\n",
       "      <td>57</td>\n",
       "      <td>2.0</td>\n",
       "      <td>151.0</td>\n",
       "      <td>3.0</td>\n",
       "      <td>1.0</td>\n",
       "      <td>NaN</td>\n",
       "      <td>8</td>\n",
       "      <td>1</td>\n",
       "    </tr>\n",
       "    <tr>\n",
       "      <th>14995</th>\n",
       "      <td>IND24196</td>\n",
       "      <td>37</td>\n",
       "      <td>48</td>\n",
       "      <td>2.0</td>\n",
       "      <td>160.0</td>\n",
       "      <td>3.0</td>\n",
       "      <td>1.0</td>\n",
       "      <td>NaN</td>\n",
       "      <td>8</td>\n",
       "      <td>1</td>\n",
       "    </tr>\n",
       "    <tr>\n",
       "      <th>14996</th>\n",
       "      <td>IND33544</td>\n",
       "      <td>37</td>\n",
       "      <td>53</td>\n",
       "      <td>2.0</td>\n",
       "      <td>143.0</td>\n",
       "      <td>3.0</td>\n",
       "      <td>1.0</td>\n",
       "      <td>NaN</td>\n",
       "      <td>8</td>\n",
       "      <td>1</td>\n",
       "    </tr>\n",
       "    <tr>\n",
       "      <th>14997</th>\n",
       "      <td>IND40533</td>\n",
       "      <td>11</td>\n",
       "      <td>96</td>\n",
       "      <td>6.0</td>\n",
       "      <td>280.0</td>\n",
       "      <td>4.0</td>\n",
       "      <td>1.0</td>\n",
       "      <td>0.0</td>\n",
       "      <td>8</td>\n",
       "      <td>1</td>\n",
       "    </tr>\n",
       "    <tr>\n",
       "      <th>14998</th>\n",
       "      <td>IND11649</td>\n",
       "      <td>37</td>\n",
       "      <td>52</td>\n",
       "      <td>2.0</td>\n",
       "      <td>158.0</td>\n",
       "      <td>3.0</td>\n",
       "      <td>1.0</td>\n",
       "      <td>0.0</td>\n",
       "      <td>8</td>\n",
       "      <td>1</td>\n",
       "    </tr>\n",
       "  </tbody>\n",
       "</table>\n",
       "<p>14999 rows × 10 columns</p>\n",
       "</div>"
      ],
      "text/plain": [
       "         Emp_Id satisfaction_level last_evaluation  number_project  \\\n",
       "0      IND02438                 38              53             2.0   \n",
       "1      IND28133                 80              86             5.0   \n",
       "2      IND07164                 11              88             7.0   \n",
       "3      IND30478                 72              87             5.0   \n",
       "4      IND24003                NaN              52             2.0   \n",
       "...         ...                ...             ...             ...   \n",
       "14994  IND40221                 40              57             2.0   \n",
       "14995  IND24196                 37              48             2.0   \n",
       "14996  IND33544                 37              53             2.0   \n",
       "14997  IND40533                 11              96             6.0   \n",
       "14998  IND11649                 37              52             2.0   \n",
       "\n",
       "       average_montly_hours  time_spend_company  left  promotion_last_5years  \\\n",
       "0                     157.0                 3.0   1.0                    NaN   \n",
       "1                     262.0                 6.0   1.0                    NaN   \n",
       "2                     272.0                 4.0   1.0                    NaN   \n",
       "3                     223.0                 5.0   1.0                    NaN   \n",
       "4                     159.0                 3.0   1.0                    NaN   \n",
       "...                     ...                 ...   ...                    ...   \n",
       "14994                 151.0                 3.0   1.0                    NaN   \n",
       "14995                 160.0                 3.0   1.0                    NaN   \n",
       "14996                 143.0                 3.0   1.0                    NaN   \n",
       "14997                 280.0                 4.0   1.0                    0.0   \n",
       "14998                 158.0                 3.0   1.0                    0.0   \n",
       "\n",
       "       Department  salary  \n",
       "0               7       1  \n",
       "1               7       2  \n",
       "2               7       2  \n",
       "3               7       1  \n",
       "4               7       1  \n",
       "...           ...     ...  \n",
       "14994           8       1  \n",
       "14995           8       1  \n",
       "14996           8       1  \n",
       "14997           8       1  \n",
       "14998           8       1  \n",
       "\n",
       "[14999 rows x 10 columns]"
      ]
     },
     "execution_count": 558,
     "metadata": {},
     "output_type": "execute_result"
    }
   ],
   "source": [
    "df.drop(['promotion_last_5years','Emp_ID'],errors='ignore')"
   ]
  },
  {
   "cell_type": "markdown",
   "id": "0e8f46d5",
   "metadata": {
    "scrolled": false
   },
   "source": [
    "### Convert data type object into float"
   ]
  },
  {
   "cell_type": "code",
   "execution_count": 559,
   "id": "141ea59f",
   "metadata": {},
   "outputs": [
    {
     "name": "stdout",
     "output_type": "stream",
     "text": [
      "<class 'pandas.core.frame.DataFrame'>\n",
      "RangeIndex: 14999 entries, 0 to 14998\n",
      "Data columns (total 10 columns):\n",
      " #   Column                 Non-Null Count  Dtype  \n",
      "---  ------                 --------------  -----  \n",
      " 0   Emp_Id                 14995 non-null  object \n",
      " 1   satisfaction_level     14968 non-null  float64\n",
      " 2   last_evaluation        14949 non-null  float64\n",
      " 3   number_project         14927 non-null  float64\n",
      " 4   average_montly_hours   14898 non-null  float64\n",
      " 5   time_spend_company     14912 non-null  float64\n",
      " 6   left                   14783 non-null  float64\n",
      " 7   promotion_last_5years  3079 non-null   float64\n",
      " 8   Department             14999 non-null  int32  \n",
      " 9   salary                 14999 non-null  int32  \n",
      "dtypes: float64(7), int32(2), object(1)\n",
      "memory usage: 1.0+ MB\n"
     ]
    }
   ],
   "source": [
    "df['satisfaction_level']=df.satisfaction_level.astype(float)\n",
    "df['last_evaluation']=df.last_evaluation.astype(float)\n",
    "\n",
    "df.info()"
   ]
  },
  {
   "cell_type": "code",
   "execution_count": null,
   "id": "6cd1a3b5",
   "metadata": {},
   "outputs": [],
   "source": []
  },
  {
   "cell_type": "markdown",
   "id": "28f70b53",
   "metadata": {},
   "source": [
    "### Check coefficient of correlation "
   ]
  },
  {
   "cell_type": "code",
   "execution_count": 560,
   "id": "372997ef",
   "metadata": {},
   "outputs": [
    {
     "data": {
      "text/html": [
       "<div>\n",
       "<style scoped>\n",
       "    .dataframe tbody tr th:only-of-type {\n",
       "        vertical-align: middle;\n",
       "    }\n",
       "\n",
       "    .dataframe tbody tr th {\n",
       "        vertical-align: top;\n",
       "    }\n",
       "\n",
       "    .dataframe thead th {\n",
       "        text-align: right;\n",
       "    }\n",
       "</style>\n",
       "<table border=\"1\" class=\"dataframe\">\n",
       "  <thead>\n",
       "    <tr style=\"text-align: right;\">\n",
       "      <th></th>\n",
       "      <th>satisfaction_level</th>\n",
       "      <th>last_evaluation</th>\n",
       "      <th>number_project</th>\n",
       "      <th>average_montly_hours</th>\n",
       "      <th>time_spend_company</th>\n",
       "      <th>left</th>\n",
       "      <th>promotion_last_5years</th>\n",
       "      <th>Department</th>\n",
       "      <th>salary</th>\n",
       "    </tr>\n",
       "  </thead>\n",
       "  <tbody>\n",
       "    <tr>\n",
       "      <th>satisfaction_level</th>\n",
       "      <td>1.000000</td>\n",
       "      <td>0.105394</td>\n",
       "      <td>-0.141396</td>\n",
       "      <td>-0.019095</td>\n",
       "      <td>-0.101736</td>\n",
       "      <td>-0.381135</td>\n",
       "      <td>-0.004561</td>\n",
       "      <td>-0.001460</td>\n",
       "      <td>-0.000379</td>\n",
       "    </tr>\n",
       "    <tr>\n",
       "      <th>last_evaluation</th>\n",
       "      <td>0.105394</td>\n",
       "      <td>1.000000</td>\n",
       "      <td>0.343752</td>\n",
       "      <td>0.332029</td>\n",
       "      <td>0.128451</td>\n",
       "      <td>0.006822</td>\n",
       "      <td>-0.024277</td>\n",
       "      <td>0.008769</td>\n",
       "      <td>0.012698</td>\n",
       "    </tr>\n",
       "    <tr>\n",
       "      <th>number_project</th>\n",
       "      <td>-0.141396</td>\n",
       "      <td>0.343752</td>\n",
       "      <td>1.000000</td>\n",
       "      <td>0.408814</td>\n",
       "      <td>0.193203</td>\n",
       "      <td>0.019342</td>\n",
       "      <td>0.018375</td>\n",
       "      <td>0.009742</td>\n",
       "      <td>0.008967</td>\n",
       "    </tr>\n",
       "    <tr>\n",
       "      <th>average_montly_hours</th>\n",
       "      <td>-0.019095</td>\n",
       "      <td>0.332029</td>\n",
       "      <td>0.408814</td>\n",
       "      <td>1.000000</td>\n",
       "      <td>0.122013</td>\n",
       "      <td>0.071296</td>\n",
       "      <td>-0.048912</td>\n",
       "      <td>0.004058</td>\n",
       "      <td>0.007946</td>\n",
       "    </tr>\n",
       "    <tr>\n",
       "      <th>time_spend_company</th>\n",
       "      <td>-0.101736</td>\n",
       "      <td>0.128451</td>\n",
       "      <td>0.193203</td>\n",
       "      <td>0.122013</td>\n",
       "      <td>1.000000</td>\n",
       "      <td>0.140770</td>\n",
       "      <td>0.011405</td>\n",
       "      <td>-0.016487</td>\n",
       "      <td>-0.002389</td>\n",
       "    </tr>\n",
       "    <tr>\n",
       "      <th>left</th>\n",
       "      <td>-0.381135</td>\n",
       "      <td>0.006822</td>\n",
       "      <td>0.019342</td>\n",
       "      <td>0.071296</td>\n",
       "      <td>0.140770</td>\n",
       "      <td>1.000000</td>\n",
       "      <td>0.006514</td>\n",
       "      <td>0.044481</td>\n",
       "      <td>0.026234</td>\n",
       "    </tr>\n",
       "    <tr>\n",
       "      <th>promotion_last_5years</th>\n",
       "      <td>-0.004561</td>\n",
       "      <td>-0.024277</td>\n",
       "      <td>0.018375</td>\n",
       "      <td>-0.048912</td>\n",
       "      <td>0.011405</td>\n",
       "      <td>0.006514</td>\n",
       "      <td>1.000000</td>\n",
       "      <td>-0.042876</td>\n",
       "      <td>0.043356</td>\n",
       "    </tr>\n",
       "    <tr>\n",
       "      <th>Department</th>\n",
       "      <td>-0.001460</td>\n",
       "      <td>0.008769</td>\n",
       "      <td>0.009742</td>\n",
       "      <td>0.004058</td>\n",
       "      <td>-0.016487</td>\n",
       "      <td>0.044481</td>\n",
       "      <td>-0.042876</td>\n",
       "      <td>1.000000</td>\n",
       "      <td>-0.000367</td>\n",
       "    </tr>\n",
       "    <tr>\n",
       "      <th>salary</th>\n",
       "      <td>-0.000379</td>\n",
       "      <td>0.012698</td>\n",
       "      <td>0.008967</td>\n",
       "      <td>0.007946</td>\n",
       "      <td>-0.002389</td>\n",
       "      <td>0.026234</td>\n",
       "      <td>0.043356</td>\n",
       "      <td>-0.000367</td>\n",
       "      <td>1.000000</td>\n",
       "    </tr>\n",
       "  </tbody>\n",
       "</table>\n",
       "</div>"
      ],
      "text/plain": [
       "                       satisfaction_level  last_evaluation  number_project  \\\n",
       "satisfaction_level               1.000000         0.105394       -0.141396   \n",
       "last_evaluation                  0.105394         1.000000        0.343752   \n",
       "number_project                  -0.141396         0.343752        1.000000   \n",
       "average_montly_hours            -0.019095         0.332029        0.408814   \n",
       "time_spend_company              -0.101736         0.128451        0.193203   \n",
       "left                            -0.381135         0.006822        0.019342   \n",
       "promotion_last_5years           -0.004561        -0.024277        0.018375   \n",
       "Department                      -0.001460         0.008769        0.009742   \n",
       "salary                          -0.000379         0.012698        0.008967   \n",
       "\n",
       "                       average_montly_hours  time_spend_company      left  \\\n",
       "satisfaction_level                -0.019095           -0.101736 -0.381135   \n",
       "last_evaluation                    0.332029            0.128451  0.006822   \n",
       "number_project                     0.408814            0.193203  0.019342   \n",
       "average_montly_hours               1.000000            0.122013  0.071296   \n",
       "time_spend_company                 0.122013            1.000000  0.140770   \n",
       "left                               0.071296            0.140770  1.000000   \n",
       "promotion_last_5years             -0.048912            0.011405  0.006514   \n",
       "Department                         0.004058           -0.016487  0.044481   \n",
       "salary                             0.007946           -0.002389  0.026234   \n",
       "\n",
       "                       promotion_last_5years  Department    salary  \n",
       "satisfaction_level                 -0.004561   -0.001460 -0.000379  \n",
       "last_evaluation                    -0.024277    0.008769  0.012698  \n",
       "number_project                      0.018375    0.009742  0.008967  \n",
       "average_montly_hours               -0.048912    0.004058  0.007946  \n",
       "time_spend_company                  0.011405   -0.016487 -0.002389  \n",
       "left                                0.006514    0.044481  0.026234  \n",
       "promotion_last_5years               1.000000   -0.042876  0.043356  \n",
       "Department                         -0.042876    1.000000 -0.000367  \n",
       "salary                              0.043356   -0.000367  1.000000  "
      ]
     },
     "execution_count": 560,
     "metadata": {},
     "output_type": "execute_result"
    }
   ],
   "source": [
    "df.corr()"
   ]
  },
  {
   "cell_type": "code",
   "execution_count": 561,
   "id": "2727ec90",
   "metadata": {},
   "outputs": [
    {
     "data": {
      "text/plain": [
       "10.0    354\n",
       "11.0    333\n",
       "74.0    256\n",
       "77.0    251\n",
       "84.0    247\n",
       "       ... \n",
       "25.0     34\n",
       "28.0     31\n",
       "26.0     30\n",
       "27.0     30\n",
       "12.0     30\n",
       "Name: satisfaction_level, Length: 92, dtype: int64"
      ]
     },
     "execution_count": 561,
     "metadata": {},
     "output_type": "execute_result"
    }
   ],
   "source": [
    "\n",
    "df['satisfaction_level'].value_counts()"
   ]
  },
  {
   "cell_type": "code",
   "execution_count": 562,
   "id": "de9fb9b4",
   "metadata": {},
   "outputs": [
    {
     "data": {
      "text/plain": [
       "<AxesSubplot:>"
      ]
     },
     "execution_count": 562,
     "metadata": {},
     "output_type": "execute_result"
    },
    {
     "data": {
      "image/png": "[encoded data removed]",
      "text/plain": [
       "<Figure size 432x288 with 2 Axes>"
      ]
     },
     "metadata": {
      "needs_background": "light"
     },
     "output_type": "display_data"
    }
   ],
   "source": [
    "sns.heatmap(df.corr())"
   ]
  },
  {
   "cell_type": "code",
   "execution_count": 563,
   "id": "60b643e4",
   "metadata": {},
   "outputs": [
    {
     "data": {
      "text/html": [
       "<div>\n",
       "<style scoped>\n",
       "    .dataframe tbody tr th:only-of-type {\n",
       "        vertical-align: middle;\n",
       "    }\n",
       "\n",
       "    .dataframe tbody tr th {\n",
       "        vertical-align: top;\n",
       "    }\n",
       "\n",
       "    .dataframe thead th {\n",
       "        text-align: right;\n",
       "    }\n",
       "</style>\n",
       "<table border=\"1\" class=\"dataframe\">\n",
       "  <thead>\n",
       "    <tr style=\"text-align: right;\">\n",
       "      <th></th>\n",
       "      <th>satisfaction_level</th>\n",
       "      <th>last_evaluation</th>\n",
       "      <th>number_project</th>\n",
       "      <th>average_montly_hours</th>\n",
       "      <th>time_spend_company</th>\n",
       "      <th>left</th>\n",
       "      <th>promotion_last_5years</th>\n",
       "      <th>Department</th>\n",
       "      <th>salary</th>\n",
       "    </tr>\n",
       "  </thead>\n",
       "  <tbody>\n",
       "    <tr>\n",
       "      <th>count</th>\n",
       "      <td>14968.000000</td>\n",
       "      <td>14949.000000</td>\n",
       "      <td>14927.000000</td>\n",
       "      <td>14898.000000</td>\n",
       "      <td>14912.000000</td>\n",
       "      <td>14783.000000</td>\n",
       "      <td>3079.000000</td>\n",
       "      <td>14999.000000</td>\n",
       "      <td>14999.000000</td>\n",
       "    </tr>\n",
       "    <tr>\n",
       "      <th>mean</th>\n",
       "      <td>61.331708</td>\n",
       "      <td>71.624791</td>\n",
       "      <td>3.801635</td>\n",
       "      <td>201.058196</td>\n",
       "      <td>3.496312</td>\n",
       "      <td>0.226950</td>\n",
       "      <td>0.052290</td>\n",
       "      <td>5.888059</td>\n",
       "      <td>1.357290</td>\n",
       "    </tr>\n",
       "    <tr>\n",
       "      <th>std</th>\n",
       "      <td>24.846651</td>\n",
       "      <td>17.109171</td>\n",
       "      <td>1.229948</td>\n",
       "      <td>49.851912</td>\n",
       "      <td>1.462605</td>\n",
       "      <td>0.418874</td>\n",
       "      <td>0.222647</td>\n",
       "      <td>2.879533</td>\n",
       "      <td>0.638075</td>\n",
       "    </tr>\n",
       "    <tr>\n",
       "      <th>min</th>\n",
       "      <td>9.000000</td>\n",
       "      <td>36.000000</td>\n",
       "      <td>2.000000</td>\n",
       "      <td>96.000000</td>\n",
       "      <td>2.000000</td>\n",
       "      <td>0.000000</td>\n",
       "      <td>0.000000</td>\n",
       "      <td>0.000000</td>\n",
       "      <td>0.000000</td>\n",
       "    </tr>\n",
       "    <tr>\n",
       "      <th>25%</th>\n",
       "      <td>44.000000</td>\n",
       "      <td>56.000000</td>\n",
       "      <td>3.000000</td>\n",
       "      <td>156.000000</td>\n",
       "      <td>3.000000</td>\n",
       "      <td>0.000000</td>\n",
       "      <td>0.000000</td>\n",
       "      <td>4.000000</td>\n",
       "      <td>1.000000</td>\n",
       "    </tr>\n",
       "    <tr>\n",
       "      <th>50%</th>\n",
       "      <td>64.000000</td>\n",
       "      <td>72.000000</td>\n",
       "      <td>4.000000</td>\n",
       "      <td>200.000000</td>\n",
       "      <td>3.000000</td>\n",
       "      <td>0.000000</td>\n",
       "      <td>0.000000</td>\n",
       "      <td>7.000000</td>\n",
       "      <td>1.000000</td>\n",
       "    </tr>\n",
       "    <tr>\n",
       "      <th>75%</th>\n",
       "      <td>82.000000</td>\n",
       "      <td>87.000000</td>\n",
       "      <td>5.000000</td>\n",
       "      <td>245.000000</td>\n",
       "      <td>4.000000</td>\n",
       "      <td>0.000000</td>\n",
       "      <td>0.000000</td>\n",
       "      <td>8.000000</td>\n",
       "      <td>2.000000</td>\n",
       "    </tr>\n",
       "    <tr>\n",
       "      <th>max</th>\n",
       "      <td>100.000000</td>\n",
       "      <td>100.000000</td>\n",
       "      <td>7.000000</td>\n",
       "      <td>310.000000</td>\n",
       "      <td>10.000000</td>\n",
       "      <td>1.000000</td>\n",
       "      <td>1.000000</td>\n",
       "      <td>10.000000</td>\n",
       "      <td>3.000000</td>\n",
       "    </tr>\n",
       "  </tbody>\n",
       "</table>\n",
       "</div>"
      ],
      "text/plain": [
       "       satisfaction_level  last_evaluation  number_project  \\\n",
       "count        14968.000000     14949.000000    14927.000000   \n",
       "mean            61.331708        71.624791        3.801635   \n",
       "std             24.846651        17.109171        1.229948   \n",
       "min              9.000000        36.000000        2.000000   \n",
       "25%             44.000000        56.000000        3.000000   \n",
       "50%             64.000000        72.000000        4.000000   \n",
       "75%             82.000000        87.000000        5.000000   \n",
       "max            100.000000       100.000000        7.000000   \n",
       "\n",
       "       average_montly_hours  time_spend_company          left  \\\n",
       "count          14898.000000        14912.000000  14783.000000   \n",
       "mean             201.058196            3.496312      0.226950   \n",
       "std               49.851912            1.462605      0.418874   \n",
       "min               96.000000            2.000000      0.000000   \n",
       "25%              156.000000            3.000000      0.000000   \n",
       "50%              200.000000            3.000000      0.000000   \n",
       "75%              245.000000            4.000000      0.000000   \n",
       "max              310.000000           10.000000      1.000000   \n",
       "\n",
       "       promotion_last_5years    Department        salary  \n",
       "count            3079.000000  14999.000000  14999.000000  \n",
       "mean                0.052290      5.888059      1.357290  \n",
       "std                 0.222647      2.879533      0.638075  \n",
       "min                 0.000000      0.000000      0.000000  \n",
       "25%                 0.000000      4.000000      1.000000  \n",
       "50%                 0.000000      7.000000      1.000000  \n",
       "75%                 0.000000      8.000000      2.000000  \n",
       "max                 1.000000     10.000000      3.000000  "
      ]
     },
     "execution_count": 563,
     "metadata": {},
     "output_type": "execute_result"
    }
   ],
   "source": [
    "df.describe()\n"
   ]
  },
  {
   "cell_type": "code",
   "execution_count": 564,
   "id": "281f03f6",
   "metadata": {},
   "outputs": [
    {
     "data": {
      "text/plain": [
       "149990"
      ]
     },
     "execution_count": 564,
     "metadata": {},
     "output_type": "execute_result"
    }
   ],
   "source": [
    "df.size"
   ]
  },
  {
   "cell_type": "code",
   "execution_count": 565,
   "id": "e6f8ef44",
   "metadata": {
    "scrolled": true
   },
   "outputs": [
    {
     "data": {
      "text/html": [
       "<div>\n",
       "<style scoped>\n",
       "    .dataframe tbody tr th:only-of-type {\n",
       "        vertical-align: middle;\n",
       "    }\n",
       "\n",
       "    .dataframe tbody tr th {\n",
       "        vertical-align: top;\n",
       "    }\n",
       "\n",
       "    .dataframe thead th {\n",
       "        text-align: right;\n",
       "    }\n",
       "</style>\n",
       "<table border=\"1\" class=\"dataframe\">\n",
       "  <thead>\n",
       "    <tr style=\"text-align: right;\">\n",
       "      <th></th>\n",
       "      <th>satisfaction_level</th>\n",
       "      <th>last_evaluation</th>\n",
       "      <th>number_project</th>\n",
       "      <th>average_montly_hours</th>\n",
       "      <th>time_spend_company</th>\n",
       "      <th>left</th>\n",
       "      <th>promotion_last_5years</th>\n",
       "      <th>Department</th>\n",
       "      <th>salary</th>\n",
       "    </tr>\n",
       "  </thead>\n",
       "  <tbody>\n",
       "    <tr>\n",
       "      <th>count</th>\n",
       "      <td>14968.000000</td>\n",
       "      <td>14949.000000</td>\n",
       "      <td>14927.000000</td>\n",
       "      <td>14898.000000</td>\n",
       "      <td>14912.000000</td>\n",
       "      <td>14783.000000</td>\n",
       "      <td>3079.000000</td>\n",
       "      <td>14999.000000</td>\n",
       "      <td>14999.000000</td>\n",
       "    </tr>\n",
       "    <tr>\n",
       "      <th>mean</th>\n",
       "      <td>61.331708</td>\n",
       "      <td>71.624791</td>\n",
       "      <td>3.801635</td>\n",
       "      <td>201.058196</td>\n",
       "      <td>3.496312</td>\n",
       "      <td>0.226950</td>\n",
       "      <td>0.052290</td>\n",
       "      <td>5.888059</td>\n",
       "      <td>1.357290</td>\n",
       "    </tr>\n",
       "    <tr>\n",
       "      <th>std</th>\n",
       "      <td>24.846651</td>\n",
       "      <td>17.109171</td>\n",
       "      <td>1.229948</td>\n",
       "      <td>49.851912</td>\n",
       "      <td>1.462605</td>\n",
       "      <td>0.418874</td>\n",
       "      <td>0.222647</td>\n",
       "      <td>2.879533</td>\n",
       "      <td>0.638075</td>\n",
       "    </tr>\n",
       "    <tr>\n",
       "      <th>min</th>\n",
       "      <td>9.000000</td>\n",
       "      <td>36.000000</td>\n",
       "      <td>2.000000</td>\n",
       "      <td>96.000000</td>\n",
       "      <td>2.000000</td>\n",
       "      <td>0.000000</td>\n",
       "      <td>0.000000</td>\n",
       "      <td>0.000000</td>\n",
       "      <td>0.000000</td>\n",
       "    </tr>\n",
       "    <tr>\n",
       "      <th>25%</th>\n",
       "      <td>44.000000</td>\n",
       "      <td>56.000000</td>\n",
       "      <td>3.000000</td>\n",
       "      <td>156.000000</td>\n",
       "      <td>3.000000</td>\n",
       "      <td>0.000000</td>\n",
       "      <td>0.000000</td>\n",
       "      <td>4.000000</td>\n",
       "      <td>1.000000</td>\n",
       "    </tr>\n",
       "    <tr>\n",
       "      <th>50%</th>\n",
       "      <td>64.000000</td>\n",
       "      <td>72.000000</td>\n",
       "      <td>4.000000</td>\n",
       "      <td>200.000000</td>\n",
       "      <td>3.000000</td>\n",
       "      <td>0.000000</td>\n",
       "      <td>0.000000</td>\n",
       "      <td>7.000000</td>\n",
       "      <td>1.000000</td>\n",
       "    </tr>\n",
       "    <tr>\n",
       "      <th>75%</th>\n",
       "      <td>82.000000</td>\n",
       "      <td>87.000000</td>\n",
       "      <td>5.000000</td>\n",
       "      <td>245.000000</td>\n",
       "      <td>4.000000</td>\n",
       "      <td>0.000000</td>\n",
       "      <td>0.000000</td>\n",
       "      <td>8.000000</td>\n",
       "      <td>2.000000</td>\n",
       "    </tr>\n",
       "    <tr>\n",
       "      <th>max</th>\n",
       "      <td>100.000000</td>\n",
       "      <td>100.000000</td>\n",
       "      <td>7.000000</td>\n",
       "      <td>310.000000</td>\n",
       "      <td>10.000000</td>\n",
       "      <td>1.000000</td>\n",
       "      <td>1.000000</td>\n",
       "      <td>10.000000</td>\n",
       "      <td>3.000000</td>\n",
       "    </tr>\n",
       "  </tbody>\n",
       "</table>\n",
       "</div>"
      ],
      "text/plain": [
       "       satisfaction_level  last_evaluation  number_project  \\\n",
       "count        14968.000000     14949.000000    14927.000000   \n",
       "mean            61.331708        71.624791        3.801635   \n",
       "std             24.846651        17.109171        1.229948   \n",
       "min              9.000000        36.000000        2.000000   \n",
       "25%             44.000000        56.000000        3.000000   \n",
       "50%             64.000000        72.000000        4.000000   \n",
       "75%             82.000000        87.000000        5.000000   \n",
       "max            100.000000       100.000000        7.000000   \n",
       "\n",
       "       average_montly_hours  time_spend_company          left  \\\n",
       "count          14898.000000        14912.000000  14783.000000   \n",
       "mean             201.058196            3.496312      0.226950   \n",
       "std               49.851912            1.462605      0.418874   \n",
       "min               96.000000            2.000000      0.000000   \n",
       "25%              156.000000            3.000000      0.000000   \n",
       "50%              200.000000            3.000000      0.000000   \n",
       "75%              245.000000            4.000000      0.000000   \n",
       "max              310.000000           10.000000      1.000000   \n",
       "\n",
       "       promotion_last_5years    Department        salary  \n",
       "count            3079.000000  14999.000000  14999.000000  \n",
       "mean                0.052290      5.888059      1.357290  \n",
       "std                 0.222647      2.879533      0.638075  \n",
       "min                 0.000000      0.000000      0.000000  \n",
       "25%                 0.000000      4.000000      1.000000  \n",
       "50%                 0.000000      7.000000      1.000000  \n",
       "75%                 0.000000      8.000000      2.000000  \n",
       "max                 1.000000     10.000000      3.000000  "
      ]
     },
     "execution_count": 565,
     "metadata": {},
     "output_type": "execute_result"
    }
   ],
   "source": [
    "df.describe(\n",
    ")"
   ]
  },
  {
   "cell_type": "code",
   "execution_count": 566,
   "id": "ca335668",
   "metadata": {
    "scrolled": false
   },
   "outputs": [
    {
     "data": {
      "text/plain": [
       "Emp_Id                       4\n",
       "satisfaction_level          31\n",
       "last_evaluation             50\n",
       "number_project              72\n",
       "average_montly_hours       101\n",
       "time_spend_company          87\n",
       "left                       216\n",
       "promotion_last_5years    11920\n",
       "Department                   0\n",
       "salary                       0\n",
       "dtype: int64"
      ]
     },
     "execution_count": 566,
     "metadata": {},
     "output_type": "execute_result"
    }
   ],
   "source": [
    "df.isna().sum()"
   ]
  },
  {
   "cell_type": "code",
   "execution_count": null,
   "id": "5d57b9ab",
   "metadata": {},
   "outputs": [],
   "source": []
  },
  {
   "cell_type": "code",
   "execution_count": 569,
   "id": "cb470b40",
   "metadata": {},
   "outputs": [
    {
     "name": "stdout",
     "output_type": "stream",
     "text": [
      "<class 'pandas.core.frame.DataFrame'>\n",
      "RangeIndex: 14999 entries, 0 to 14998\n",
      "Data columns (total 10 columns):\n",
      " #   Column                 Non-Null Count  Dtype  \n",
      "---  ------                 --------------  -----  \n",
      " 0   Emp_Id                 14995 non-null  object \n",
      " 1   satisfaction_level     14968 non-null  float64\n",
      " 2   last_evaluation        14949 non-null  float64\n",
      " 3   number_project         14927 non-null  float64\n",
      " 4   average_montly_hours   14898 non-null  float64\n",
      " 5   time_spend_company     14912 non-null  float64\n",
      " 6   left                   14783 non-null  float64\n",
      " 7   promotion_last_5years  3079 non-null   float64\n",
      " 8   Department             14999 non-null  int32  \n",
      " 9   salary                 14999 non-null  int32  \n",
      "dtypes: float64(7), int32(2), object(1)\n",
      "memory usage: 1.0+ MB\n"
     ]
    }
   ],
   "source": [
    "df.info()"
   ]
  },
  {
   "cell_type": "code",
   "execution_count": 570,
   "id": "03efe438",
   "metadata": {},
   "outputs": [],
   "source": [
    "df['average_montly_hours'].fillna(df['average_montly_hours'].mean(), inplace = True)\n"
   ]
  },
  {
   "cell_type": "code",
   "execution_count": 571,
   "id": "f9747936",
   "metadata": {
    "scrolled": true
   },
   "outputs": [
    {
     "data": {
      "text/plain": [
       "Emp_Id                       4\n",
       "satisfaction_level          31\n",
       "last_evaluation             50\n",
       "number_project              72\n",
       "average_montly_hours         0\n",
       "time_spend_company          87\n",
       "left                       216\n",
       "promotion_last_5years    11920\n",
       "Department                   0\n",
       "salary                       0\n",
       "dtype: int64"
      ]
     },
     "execution_count": 571,
     "metadata": {},
     "output_type": "execute_result"
    }
   ],
   "source": [
    "df.isna().sum()"
   ]
  },
  {
   "cell_type": "code",
   "execution_count": 572,
   "id": "8d6e1d39",
   "metadata": {},
   "outputs": [
    {
     "data": {
      "text/html": [
       "<div>\n",
       "<style scoped>\n",
       "    .dataframe tbody tr th:only-of-type {\n",
       "        vertical-align: middle;\n",
       "    }\n",
       "\n",
       "    .dataframe tbody tr th {\n",
       "        vertical-align: top;\n",
       "    }\n",
       "\n",
       "    .dataframe thead th {\n",
       "        text-align: right;\n",
       "    }\n",
       "</style>\n",
       "<table border=\"1\" class=\"dataframe\">\n",
       "  <thead>\n",
       "    <tr style=\"text-align: right;\">\n",
       "      <th></th>\n",
       "      <th>Emp_Id</th>\n",
       "      <th>satisfaction_level</th>\n",
       "      <th>last_evaluation</th>\n",
       "      <th>number_project</th>\n",
       "      <th>average_montly_hours</th>\n",
       "      <th>time_spend_company</th>\n",
       "      <th>left</th>\n",
       "      <th>Department</th>\n",
       "      <th>salary</th>\n",
       "    </tr>\n",
       "  </thead>\n",
       "  <tbody>\n",
       "    <tr>\n",
       "      <th>0</th>\n",
       "      <td>IND02438</td>\n",
       "      <td>38.0</td>\n",
       "      <td>53.0</td>\n",
       "      <td>2.0</td>\n",
       "      <td>157.0</td>\n",
       "      <td>3.0</td>\n",
       "      <td>1.0</td>\n",
       "      <td>7</td>\n",
       "      <td>1</td>\n",
       "    </tr>\n",
       "    <tr>\n",
       "      <th>1</th>\n",
       "      <td>IND28133</td>\n",
       "      <td>80.0</td>\n",
       "      <td>86.0</td>\n",
       "      <td>5.0</td>\n",
       "      <td>262.0</td>\n",
       "      <td>6.0</td>\n",
       "      <td>1.0</td>\n",
       "      <td>7</td>\n",
       "      <td>2</td>\n",
       "    </tr>\n",
       "    <tr>\n",
       "      <th>2</th>\n",
       "      <td>IND07164</td>\n",
       "      <td>11.0</td>\n",
       "      <td>88.0</td>\n",
       "      <td>7.0</td>\n",
       "      <td>272.0</td>\n",
       "      <td>4.0</td>\n",
       "      <td>1.0</td>\n",
       "      <td>7</td>\n",
       "      <td>2</td>\n",
       "    </tr>\n",
       "    <tr>\n",
       "      <th>3</th>\n",
       "      <td>IND30478</td>\n",
       "      <td>72.0</td>\n",
       "      <td>87.0</td>\n",
       "      <td>5.0</td>\n",
       "      <td>223.0</td>\n",
       "      <td>5.0</td>\n",
       "      <td>1.0</td>\n",
       "      <td>7</td>\n",
       "      <td>1</td>\n",
       "    </tr>\n",
       "    <tr>\n",
       "      <th>4</th>\n",
       "      <td>IND24003</td>\n",
       "      <td>NaN</td>\n",
       "      <td>52.0</td>\n",
       "      <td>2.0</td>\n",
       "      <td>159.0</td>\n",
       "      <td>3.0</td>\n",
       "      <td>1.0</td>\n",
       "      <td>7</td>\n",
       "      <td>1</td>\n",
       "    </tr>\n",
       "    <tr>\n",
       "      <th>...</th>\n",
       "      <td>...</td>\n",
       "      <td>...</td>\n",
       "      <td>...</td>\n",
       "      <td>...</td>\n",
       "      <td>...</td>\n",
       "      <td>...</td>\n",
       "      <td>...</td>\n",
       "      <td>...</td>\n",
       "      <td>...</td>\n",
       "    </tr>\n",
       "    <tr>\n",
       "      <th>14994</th>\n",
       "      <td>IND40221</td>\n",
       "      <td>40.0</td>\n",
       "      <td>57.0</td>\n",
       "      <td>2.0</td>\n",
       "      <td>151.0</td>\n",
       "      <td>3.0</td>\n",
       "      <td>1.0</td>\n",
       "      <td>8</td>\n",
       "      <td>1</td>\n",
       "    </tr>\n",
       "    <tr>\n",
       "      <th>14995</th>\n",
       "      <td>IND24196</td>\n",
       "      <td>37.0</td>\n",
       "      <td>48.0</td>\n",
       "      <td>2.0</td>\n",
       "      <td>160.0</td>\n",
       "      <td>3.0</td>\n",
       "      <td>1.0</td>\n",
       "      <td>8</td>\n",
       "      <td>1</td>\n",
       "    </tr>\n",
       "    <tr>\n",
       "      <th>14996</th>\n",
       "      <td>IND33544</td>\n",
       "      <td>37.0</td>\n",
       "      <td>53.0</td>\n",
       "      <td>2.0</td>\n",
       "      <td>143.0</td>\n",
       "      <td>3.0</td>\n",
       "      <td>1.0</td>\n",
       "      <td>8</td>\n",
       "      <td>1</td>\n",
       "    </tr>\n",
       "    <tr>\n",
       "      <th>14997</th>\n",
       "      <td>IND40533</td>\n",
       "      <td>11.0</td>\n",
       "      <td>96.0</td>\n",
       "      <td>6.0</td>\n",
       "      <td>280.0</td>\n",
       "      <td>4.0</td>\n",
       "      <td>1.0</td>\n",
       "      <td>8</td>\n",
       "      <td>1</td>\n",
       "    </tr>\n",
       "    <tr>\n",
       "      <th>14998</th>\n",
       "      <td>IND11649</td>\n",
       "      <td>37.0</td>\n",
       "      <td>52.0</td>\n",
       "      <td>2.0</td>\n",
       "      <td>158.0</td>\n",
       "      <td>3.0</td>\n",
       "      <td>1.0</td>\n",
       "      <td>8</td>\n",
       "      <td>1</td>\n",
       "    </tr>\n",
       "  </tbody>\n",
       "</table>\n",
       "<p>14999 rows × 9 columns</p>\n",
       "</div>"
      ],
      "text/plain": [
       "         Emp_Id  satisfaction_level  last_evaluation  number_project  \\\n",
       "0      IND02438                38.0             53.0             2.0   \n",
       "1      IND28133                80.0             86.0             5.0   \n",
       "2      IND07164                11.0             88.0             7.0   \n",
       "3      IND30478                72.0             87.0             5.0   \n",
       "4      IND24003                 NaN             52.0             2.0   \n",
       "...         ...                 ...              ...             ...   \n",
       "14994  IND40221                40.0             57.0             2.0   \n",
       "14995  IND24196                37.0             48.0             2.0   \n",
       "14996  IND33544                37.0             53.0             2.0   \n",
       "14997  IND40533                11.0             96.0             6.0   \n",
       "14998  IND11649                37.0             52.0             2.0   \n",
       "\n",
       "       average_montly_hours  time_spend_company  left  Department  salary  \n",
       "0                     157.0                 3.0   1.0           7       1  \n",
       "1                     262.0                 6.0   1.0           7       2  \n",
       "2                     272.0                 4.0   1.0           7       2  \n",
       "3                     223.0                 5.0   1.0           7       1  \n",
       "4                     159.0                 3.0   1.0           7       1  \n",
       "...                     ...                 ...   ...         ...     ...  \n",
       "14994                 151.0                 3.0   1.0           8       1  \n",
       "14995                 160.0                 3.0   1.0           8       1  \n",
       "14996                 143.0                 3.0   1.0           8       1  \n",
       "14997                 280.0                 4.0   1.0           8       1  \n",
       "14998                 158.0                 3.0   1.0           8       1  \n",
       "\n",
       "[14999 rows x 9 columns]"
      ]
     },
     "execution_count": 572,
     "metadata": {},
     "output_type": "execute_result"
    }
   ],
   "source": [
    "df.drop(['promotion_last_5years'], axis=1)"
   ]
  },
  {
   "cell_type": "code",
   "execution_count": 573,
   "id": "945c2192",
   "metadata": {},
   "outputs": [],
   "source": [
    "df.dropna(subset = [\"satisfaction_level\"], inplace=True)"
   ]
  },
  {
   "cell_type": "code",
   "execution_count": 574,
   "id": "63804ffa",
   "metadata": {},
   "outputs": [],
   "source": [
    "df.dropna(subset = [\"last_evaluation\"], inplace=True)"
   ]
  },
  {
   "cell_type": "code",
   "execution_count": 575,
   "id": "83aa2d8c",
   "metadata": {},
   "outputs": [],
   "source": [
    "df.dropna(subset = [\"number_project\"], inplace=True)"
   ]
  },
  {
   "cell_type": "code",
   "execution_count": 576,
   "id": "f9ed802a",
   "metadata": {},
   "outputs": [],
   "source": [
    "df.dropna(subset = [\"time_spend_company\"], inplace=True)"
   ]
  },
  {
   "cell_type": "code",
   "execution_count": 577,
   "id": "bc6fa7c6",
   "metadata": {},
   "outputs": [],
   "source": [
    "df.dropna(subset = [\"left\"], inplace=True)"
   ]
  },
  {
   "cell_type": "code",
   "execution_count": 578,
   "id": "c0622674",
   "metadata": {},
   "outputs": [
    {
     "data": {
      "text/plain": [
       "Emp_Id                       4\n",
       "satisfaction_level           0\n",
       "last_evaluation              0\n",
       "number_project               0\n",
       "average_montly_hours         0\n",
       "time_spend_company           0\n",
       "left                         0\n",
       "promotion_last_5years    11476\n",
       "Department                   0\n",
       "salary                       0\n",
       "dtype: int64"
      ]
     },
     "execution_count": 578,
     "metadata": {},
     "output_type": "execute_result"
    }
   ],
   "source": [
    "df.isna().sum()"
   ]
  },
  {
   "cell_type": "code",
   "execution_count": 579,
   "id": "90335093",
   "metadata": {},
   "outputs": [],
   "source": [
    "df.drop(['promotion_last_5years'],axis=1,inplace=True)"
   ]
  },
  {
   "cell_type": "code",
   "execution_count": 580,
   "id": "b1d7bf07",
   "metadata": {},
   "outputs": [
    {
     "data": {
      "text/plain": [
       "Emp_Id                  4\n",
       "satisfaction_level      0\n",
       "last_evaluation         0\n",
       "number_project          0\n",
       "average_montly_hours    0\n",
       "time_spend_company      0\n",
       "left                    0\n",
       "Department              0\n",
       "salary                  0\n",
       "dtype: int64"
      ]
     },
     "execution_count": 580,
     "metadata": {},
     "output_type": "execute_result"
    }
   ],
   "source": [
    "df.isna().sum()"
   ]
  },
  {
   "cell_type": "code",
   "execution_count": 581,
   "id": "28df9c36",
   "metadata": {},
   "outputs": [],
   "source": [
    "df.drop(['Emp_Id'],axis=1,inplace=True)"
   ]
  },
  {
   "cell_type": "code",
   "execution_count": 582,
   "id": "5dbe21f8",
   "metadata": {},
   "outputs": [
    {
     "data": {
      "text/plain": [
       "satisfaction_level      0\n",
       "last_evaluation         0\n",
       "number_project          0\n",
       "average_montly_hours    0\n",
       "time_spend_company      0\n",
       "left                    0\n",
       "Department              0\n",
       "salary                  0\n",
       "dtype: int64"
      ]
     },
     "execution_count": 582,
     "metadata": {},
     "output_type": "execute_result"
    }
   ],
   "source": [
    "df.isna().sum()"
   ]
  },
  {
   "cell_type": "code",
   "execution_count": 583,
   "id": "b209dbff",
   "metadata": {},
   "outputs": [
    {
     "data": {
      "text/html": [
       "<div>\n",
       "<style scoped>\n",
       "    .dataframe tbody tr th:only-of-type {\n",
       "        vertical-align: middle;\n",
       "    }\n",
       "\n",
       "    .dataframe tbody tr th {\n",
       "        vertical-align: top;\n",
       "    }\n",
       "\n",
       "    .dataframe thead th {\n",
       "        text-align: right;\n",
       "    }\n",
       "</style>\n",
       "<table border=\"1\" class=\"dataframe\">\n",
       "  <thead>\n",
       "    <tr style=\"text-align: right;\">\n",
       "      <th></th>\n",
       "      <th>satisfaction_level</th>\n",
       "      <th>last_evaluation</th>\n",
       "      <th>number_project</th>\n",
       "      <th>average_montly_hours</th>\n",
       "      <th>time_spend_company</th>\n",
       "      <th>left</th>\n",
       "      <th>Department</th>\n",
       "      <th>salary</th>\n",
       "    </tr>\n",
       "  </thead>\n",
       "  <tbody>\n",
       "    <tr>\n",
       "      <th>satisfaction_level</th>\n",
       "      <td>1.000000</td>\n",
       "      <td>0.106046</td>\n",
       "      <td>-0.134434</td>\n",
       "      <td>-0.012843</td>\n",
       "      <td>-0.106123</td>\n",
       "      <td>-0.376012</td>\n",
       "      <td>-0.001790</td>\n",
       "      <td>0.007832</td>\n",
       "    </tr>\n",
       "    <tr>\n",
       "      <th>last_evaluation</th>\n",
       "      <td>0.106046</td>\n",
       "      <td>1.000000</td>\n",
       "      <td>0.325537</td>\n",
       "      <td>0.312459</td>\n",
       "      <td>0.118293</td>\n",
       "      <td>0.003781</td>\n",
       "      <td>0.006222</td>\n",
       "      <td>0.012257</td>\n",
       "    </tr>\n",
       "    <tr>\n",
       "      <th>number_project</th>\n",
       "      <td>-0.134434</td>\n",
       "      <td>0.325537</td>\n",
       "      <td>1.000000</td>\n",
       "      <td>0.382771</td>\n",
       "      <td>0.185912</td>\n",
       "      <td>0.018701</td>\n",
       "      <td>0.008925</td>\n",
       "      <td>0.007565</td>\n",
       "    </tr>\n",
       "    <tr>\n",
       "      <th>average_montly_hours</th>\n",
       "      <td>-0.012843</td>\n",
       "      <td>0.312459</td>\n",
       "      <td>0.382771</td>\n",
       "      <td>1.000000</td>\n",
       "      <td>0.110619</td>\n",
       "      <td>0.069855</td>\n",
       "      <td>0.002988</td>\n",
       "      <td>0.004954</td>\n",
       "    </tr>\n",
       "    <tr>\n",
       "      <th>time_spend_company</th>\n",
       "      <td>-0.106123</td>\n",
       "      <td>0.118293</td>\n",
       "      <td>0.185912</td>\n",
       "      <td>0.110619</td>\n",
       "      <td>1.000000</td>\n",
       "      <td>0.138741</td>\n",
       "      <td>-0.017765</td>\n",
       "      <td>-0.004780</td>\n",
       "    </tr>\n",
       "    <tr>\n",
       "      <th>left</th>\n",
       "      <td>-0.376012</td>\n",
       "      <td>0.003781</td>\n",
       "      <td>0.018701</td>\n",
       "      <td>0.069855</td>\n",
       "      <td>0.138741</td>\n",
       "      <td>1.000000</td>\n",
       "      <td>0.044203</td>\n",
       "      <td>0.006363</td>\n",
       "    </tr>\n",
       "    <tr>\n",
       "      <th>Department</th>\n",
       "      <td>-0.001790</td>\n",
       "      <td>0.006222</td>\n",
       "      <td>0.008925</td>\n",
       "      <td>0.002988</td>\n",
       "      <td>-0.017765</td>\n",
       "      <td>0.044203</td>\n",
       "      <td>1.000000</td>\n",
       "      <td>0.003376</td>\n",
       "    </tr>\n",
       "    <tr>\n",
       "      <th>salary</th>\n",
       "      <td>0.007832</td>\n",
       "      <td>0.012257</td>\n",
       "      <td>0.007565</td>\n",
       "      <td>0.004954</td>\n",
       "      <td>-0.004780</td>\n",
       "      <td>0.006363</td>\n",
       "      <td>0.003376</td>\n",
       "      <td>1.000000</td>\n",
       "    </tr>\n",
       "  </tbody>\n",
       "</table>\n",
       "</div>"
      ],
      "text/plain": [
       "                      satisfaction_level  last_evaluation  number_project  \\\n",
       "satisfaction_level              1.000000         0.106046       -0.134434   \n",
       "last_evaluation                 0.106046         1.000000        0.325537   \n",
       "number_project                 -0.134434         0.325537        1.000000   \n",
       "average_montly_hours           -0.012843         0.312459        0.382771   \n",
       "time_spend_company             -0.106123         0.118293        0.185912   \n",
       "left                           -0.376012         0.003781        0.018701   \n",
       "Department                     -0.001790         0.006222        0.008925   \n",
       "salary                          0.007832         0.012257        0.007565   \n",
       "\n",
       "                      average_montly_hours  time_spend_company      left  \\\n",
       "satisfaction_level               -0.012843           -0.106123 -0.376012   \n",
       "last_evaluation                   0.312459            0.118293  0.003781   \n",
       "number_project                    0.382771            0.185912  0.018701   \n",
       "average_montly_hours              1.000000            0.110619  0.069855   \n",
       "time_spend_company                0.110619            1.000000  0.138741   \n",
       "left                              0.069855            0.138741  1.000000   \n",
       "Department                        0.002988           -0.017765  0.044203   \n",
       "salary                            0.004954           -0.004780  0.006363   \n",
       "\n",
       "                      Department    salary  \n",
       "satisfaction_level     -0.001790  0.007832  \n",
       "last_evaluation         0.006222  0.012257  \n",
       "number_project          0.008925  0.007565  \n",
       "average_montly_hours    0.002988  0.004954  \n",
       "time_spend_company     -0.017765 -0.004780  \n",
       "left                    0.044203  0.006363  \n",
       "Department              1.000000  0.003376  \n",
       "salary                  0.003376  1.000000  "
      ]
     },
     "execution_count": 583,
     "metadata": {},
     "output_type": "execute_result"
    }
   ],
   "source": [
    "df.corr()"
   ]
  },
  {
   "cell_type": "code",
   "execution_count": 584,
   "id": "0a3736fa",
   "metadata": {},
   "outputs": [
    {
     "data": {
      "text/html": [
       "<div>\n",
       "<style scoped>\n",
       "    .dataframe tbody tr th:only-of-type {\n",
       "        vertical-align: middle;\n",
       "    }\n",
       "\n",
       "    .dataframe tbody tr th {\n",
       "        vertical-align: top;\n",
       "    }\n",
       "\n",
       "    .dataframe thead th {\n",
       "        text-align: right;\n",
       "    }\n",
       "</style>\n",
       "<table border=\"1\" class=\"dataframe\">\n",
       "  <thead>\n",
       "    <tr style=\"text-align: right;\">\n",
       "      <th></th>\n",
       "      <th>satisfaction_level</th>\n",
       "      <th>last_evaluation</th>\n",
       "      <th>number_project</th>\n",
       "      <th>average_montly_hours</th>\n",
       "      <th>time_spend_company</th>\n",
       "      <th>left</th>\n",
       "      <th>Department</th>\n",
       "      <th>salary</th>\n",
       "    </tr>\n",
       "  </thead>\n",
       "  <tbody>\n",
       "    <tr>\n",
       "      <th>count</th>\n",
       "      <td>14555.000000</td>\n",
       "      <td>14555.000000</td>\n",
       "      <td>14555.000000</td>\n",
       "      <td>14555.000000</td>\n",
       "      <td>14555.000000</td>\n",
       "      <td>14555.000000</td>\n",
       "      <td>14555.000000</td>\n",
       "      <td>14555.000000</td>\n",
       "    </tr>\n",
       "    <tr>\n",
       "      <th>mean</th>\n",
       "      <td>61.842116</td>\n",
       "      <td>71.581037</td>\n",
       "      <td>3.798488</td>\n",
       "      <td>200.860646</td>\n",
       "      <td>3.486774</td>\n",
       "      <td>0.214840</td>\n",
       "      <td>5.885469</td>\n",
       "      <td>1.349845</td>\n",
       "    </tr>\n",
       "    <tr>\n",
       "      <th>std</th>\n",
       "      <td>24.602319</td>\n",
       "      <td>17.037831</td>\n",
       "      <td>1.208791</td>\n",
       "      <td>49.273952</td>\n",
       "      <td>1.470852</td>\n",
       "      <td>0.410726</td>\n",
       "      <td>2.872994</td>\n",
       "      <td>0.631857</td>\n",
       "    </tr>\n",
       "    <tr>\n",
       "      <th>min</th>\n",
       "      <td>9.000000</td>\n",
       "      <td>36.000000</td>\n",
       "      <td>2.000000</td>\n",
       "      <td>96.000000</td>\n",
       "      <td>2.000000</td>\n",
       "      <td>0.000000</td>\n",
       "      <td>0.000000</td>\n",
       "      <td>0.000000</td>\n",
       "    </tr>\n",
       "    <tr>\n",
       "      <th>25%</th>\n",
       "      <td>45.000000</td>\n",
       "      <td>56.000000</td>\n",
       "      <td>3.000000</td>\n",
       "      <td>157.000000</td>\n",
       "      <td>3.000000</td>\n",
       "      <td>0.000000</td>\n",
       "      <td>4.000000</td>\n",
       "      <td>1.000000</td>\n",
       "    </tr>\n",
       "    <tr>\n",
       "      <th>50%</th>\n",
       "      <td>65.000000</td>\n",
       "      <td>72.000000</td>\n",
       "      <td>4.000000</td>\n",
       "      <td>201.000000</td>\n",
       "      <td>3.000000</td>\n",
       "      <td>0.000000</td>\n",
       "      <td>7.000000</td>\n",
       "      <td>1.000000</td>\n",
       "    </tr>\n",
       "    <tr>\n",
       "      <th>75%</th>\n",
       "      <td>82.000000</td>\n",
       "      <td>87.000000</td>\n",
       "      <td>5.000000</td>\n",
       "      <td>244.000000</td>\n",
       "      <td>4.000000</td>\n",
       "      <td>0.000000</td>\n",
       "      <td>8.000000</td>\n",
       "      <td>2.000000</td>\n",
       "    </tr>\n",
       "    <tr>\n",
       "      <th>max</th>\n",
       "      <td>100.000000</td>\n",
       "      <td>100.000000</td>\n",
       "      <td>7.000000</td>\n",
       "      <td>310.000000</td>\n",
       "      <td>10.000000</td>\n",
       "      <td>1.000000</td>\n",
       "      <td>10.000000</td>\n",
       "      <td>3.000000</td>\n",
       "    </tr>\n",
       "  </tbody>\n",
       "</table>\n",
       "</div>"
      ],
      "text/plain": [
       "       satisfaction_level  last_evaluation  number_project  \\\n",
       "count        14555.000000     14555.000000    14555.000000   \n",
       "mean            61.842116        71.581037        3.798488   \n",
       "std             24.602319        17.037831        1.208791   \n",
       "min              9.000000        36.000000        2.000000   \n",
       "25%             45.000000        56.000000        3.000000   \n",
       "50%             65.000000        72.000000        4.000000   \n",
       "75%             82.000000        87.000000        5.000000   \n",
       "max            100.000000       100.000000        7.000000   \n",
       "\n",
       "       average_montly_hours  time_spend_company          left    Department  \\\n",
       "count          14555.000000        14555.000000  14555.000000  14555.000000   \n",
       "mean             200.860646            3.486774      0.214840      5.885469   \n",
       "std               49.273952            1.470852      0.410726      2.872994   \n",
       "min               96.000000            2.000000      0.000000      0.000000   \n",
       "25%              157.000000            3.000000      0.000000      4.000000   \n",
       "50%              201.000000            3.000000      0.000000      7.000000   \n",
       "75%              244.000000            4.000000      0.000000      8.000000   \n",
       "max              310.000000           10.000000      1.000000     10.000000   \n",
       "\n",
       "             salary  \n",
       "count  14555.000000  \n",
       "mean       1.349845  \n",
       "std        0.631857  \n",
       "min        0.000000  \n",
       "25%        1.000000  \n",
       "50%        1.000000  \n",
       "75%        2.000000  \n",
       "max        3.000000  "
      ]
     },
     "execution_count": 584,
     "metadata": {},
     "output_type": "execute_result"
    }
   ],
   "source": [
    "df.describe()"
   ]
  },
  {
   "cell_type": "code",
   "execution_count": 585,
   "id": "74a8841a",
   "metadata": {
    "scrolled": false
   },
   "outputs": [
    {
     "data": {
      "text/plain": [
       "satisfaction_level      0\n",
       "last_evaluation         0\n",
       "number_project          0\n",
       "average_montly_hours    0\n",
       "time_spend_company      0\n",
       "left                    0\n",
       "Department              0\n",
       "salary                  0\n",
       "dtype: int64"
      ]
     },
     "execution_count": 585,
     "metadata": {},
     "output_type": "execute_result"
    }
   ],
   "source": [
    "df.isna().sum()"
   ]
  },
  {
   "cell_type": "code",
   "execution_count": 606,
   "id": "225032c2",
   "metadata": {},
   "outputs": [],
   "source": [
    "df.to_csv(\"C:\\\\Users\\\\Vinay\\\\OneDrive\\\\Desktop\\\\B2_56306_Vinay\\\\Project\\\\project\\\\New_HR_Employee_Data.csv\",index=False)"
   ]
  },
  {
   "cell_type": "code",
   "execution_count": null,
   "id": "d96bd462",
   "metadata": {},
   "outputs": [],
   "source": []
  },
  {
   "cell_type": "code",
   "execution_count": 587,
   "id": "64600c48",
   "metadata": {},
   "outputs": [
    {
     "data": {
      "text/html": [
       "<div>\n",
       "<style scoped>\n",
       "    .dataframe tbody tr th:only-of-type {\n",
       "        vertical-align: middle;\n",
       "    }\n",
       "\n",
       "    .dataframe tbody tr th {\n",
       "        vertical-align: top;\n",
       "    }\n",
       "\n",
       "    .dataframe thead th {\n",
       "        text-align: right;\n",
       "    }\n",
       "</style>\n",
       "<table border=\"1\" class=\"dataframe\">\n",
       "  <thead>\n",
       "    <tr style=\"text-align: right;\">\n",
       "      <th></th>\n",
       "      <th>satisfaction_level</th>\n",
       "      <th>last_evaluation</th>\n",
       "      <th>number_project</th>\n",
       "      <th>average_montly_hours</th>\n",
       "      <th>time_spend_company</th>\n",
       "      <th>left</th>\n",
       "      <th>Department</th>\n",
       "      <th>salary</th>\n",
       "    </tr>\n",
       "  </thead>\n",
       "  <tbody>\n",
       "    <tr>\n",
       "      <th>count</th>\n",
       "      <td>14555.000000</td>\n",
       "      <td>14555.000000</td>\n",
       "      <td>14555.000000</td>\n",
       "      <td>14555.000000</td>\n",
       "      <td>14555.000000</td>\n",
       "      <td>14555.000000</td>\n",
       "      <td>14555.000000</td>\n",
       "      <td>14555.000000</td>\n",
       "    </tr>\n",
       "    <tr>\n",
       "      <th>mean</th>\n",
       "      <td>61.842116</td>\n",
       "      <td>71.581037</td>\n",
       "      <td>3.798488</td>\n",
       "      <td>200.860646</td>\n",
       "      <td>3.486774</td>\n",
       "      <td>0.214840</td>\n",
       "      <td>5.885469</td>\n",
       "      <td>1.349845</td>\n",
       "    </tr>\n",
       "    <tr>\n",
       "      <th>std</th>\n",
       "      <td>24.602319</td>\n",
       "      <td>17.037831</td>\n",
       "      <td>1.208791</td>\n",
       "      <td>49.273952</td>\n",
       "      <td>1.470852</td>\n",
       "      <td>0.410726</td>\n",
       "      <td>2.872994</td>\n",
       "      <td>0.631857</td>\n",
       "    </tr>\n",
       "    <tr>\n",
       "      <th>min</th>\n",
       "      <td>9.000000</td>\n",
       "      <td>36.000000</td>\n",
       "      <td>2.000000</td>\n",
       "      <td>96.000000</td>\n",
       "      <td>2.000000</td>\n",
       "      <td>0.000000</td>\n",
       "      <td>0.000000</td>\n",
       "      <td>0.000000</td>\n",
       "    </tr>\n",
       "    <tr>\n",
       "      <th>25%</th>\n",
       "      <td>45.000000</td>\n",
       "      <td>56.000000</td>\n",
       "      <td>3.000000</td>\n",
       "      <td>157.000000</td>\n",
       "      <td>3.000000</td>\n",
       "      <td>0.000000</td>\n",
       "      <td>4.000000</td>\n",
       "      <td>1.000000</td>\n",
       "    </tr>\n",
       "    <tr>\n",
       "      <th>50%</th>\n",
       "      <td>65.000000</td>\n",
       "      <td>72.000000</td>\n",
       "      <td>4.000000</td>\n",
       "      <td>201.000000</td>\n",
       "      <td>3.000000</td>\n",
       "      <td>0.000000</td>\n",
       "      <td>7.000000</td>\n",
       "      <td>1.000000</td>\n",
       "    </tr>\n",
       "    <tr>\n",
       "      <th>75%</th>\n",
       "      <td>82.000000</td>\n",
       "      <td>87.000000</td>\n",
       "      <td>5.000000</td>\n",
       "      <td>244.000000</td>\n",
       "      <td>4.000000</td>\n",
       "      <td>0.000000</td>\n",
       "      <td>8.000000</td>\n",
       "      <td>2.000000</td>\n",
       "    </tr>\n",
       "    <tr>\n",
       "      <th>max</th>\n",
       "      <td>100.000000</td>\n",
       "      <td>100.000000</td>\n",
       "      <td>7.000000</td>\n",
       "      <td>310.000000</td>\n",
       "      <td>10.000000</td>\n",
       "      <td>1.000000</td>\n",
       "      <td>10.000000</td>\n",
       "      <td>3.000000</td>\n",
       "    </tr>\n",
       "  </tbody>\n",
       "</table>\n",
       "</div>"
      ],
      "text/plain": [
       "       satisfaction_level  last_evaluation  number_project  \\\n",
       "count        14555.000000     14555.000000    14555.000000   \n",
       "mean            61.842116        71.581037        3.798488   \n",
       "std             24.602319        17.037831        1.208791   \n",
       "min              9.000000        36.000000        2.000000   \n",
       "25%             45.000000        56.000000        3.000000   \n",
       "50%             65.000000        72.000000        4.000000   \n",
       "75%             82.000000        87.000000        5.000000   \n",
       "max            100.000000       100.000000        7.000000   \n",
       "\n",
       "       average_montly_hours  time_spend_company          left    Department  \\\n",
       "count          14555.000000        14555.000000  14555.000000  14555.000000   \n",
       "mean             200.860646            3.486774      0.214840      5.885469   \n",
       "std               49.273952            1.470852      0.410726      2.872994   \n",
       "min               96.000000            2.000000      0.000000      0.000000   \n",
       "25%              157.000000            3.000000      0.000000      4.000000   \n",
       "50%              201.000000            3.000000      0.000000      7.000000   \n",
       "75%              244.000000            4.000000      0.000000      8.000000   \n",
       "max              310.000000           10.000000      1.000000     10.000000   \n",
       "\n",
       "             salary  \n",
       "count  14555.000000  \n",
       "mean       1.349845  \n",
       "std        0.631857  \n",
       "min        0.000000  \n",
       "25%        1.000000  \n",
       "50%        1.000000  \n",
       "75%        2.000000  \n",
       "max        3.000000  "
      ]
     },
     "execution_count": 587,
     "metadata": {},
     "output_type": "execute_result"
    }
   ],
   "source": [
    "df.describe()"
   ]
  },
  {
   "cell_type": "code",
   "execution_count": 588,
   "id": "eb7f36fb",
   "metadata": {},
   "outputs": [
    {
     "data": {
      "text/plain": [
       "0.0    11428\n",
       "1.0     3127\n",
       "Name: left, dtype: int64"
      ]
     },
     "execution_count": 588,
     "metadata": {},
     "output_type": "execute_result"
    }
   ],
   "source": [
    "df['left'].value_counts()\n"
   ]
  },
  {
   "cell_type": "code",
   "execution_count": 589,
   "id": "efc3db88",
   "metadata": {},
   "outputs": [],
   "source": [
    "X=df.drop(['left'],axis=1)\n",
    "y = df.left"
   ]
  },
  {
   "cell_type": "code",
   "execution_count": null,
   "id": "b1487a7f",
   "metadata": {},
   "outputs": [],
   "source": []
  },
  {
   "cell_type": "code",
   "execution_count": 590,
   "id": "3bb6cae6",
   "metadata": {},
   "outputs": [],
   "source": [
    "from sklearn.model_selection import train_test_split\n",
    "\n",
    "x_train, x_test, y_train, y_test = train_test_split(x, y, train_size=0.8, random_state=1234567)"
   ]
  },
  {
   "cell_type": "code",
   "execution_count": 591,
   "id": "b3d007f9",
   "metadata": {},
   "outputs": [
    {
     "data": {
      "text/plain": [
       "LogisticRegressionCV(max_iter=500)"
      ]
     },
     "execution_count": 591,
     "metadata": {},
     "output_type": "execute_result"
    }
   ],
   "source": [
    "from sklearn.linear_model import LogisticRegressionCV\n",
    "\n",
    "# create the model\n",
    "model = LogisticRegressionCV(max_iter=500)\n",
    "\n",
    "# train the model\n",
    "model.fit(x_train, y_train)"
   ]
  },
  {
   "cell_type": "code",
   "execution_count": 592,
   "id": "2d919f31",
   "metadata": {},
   "outputs": [
    {
     "data": {
      "text/plain": [
       "array([0., 0., 1., ..., 0., 1., 0.])"
      ]
     },
     "execution_count": 592,
     "metadata": {},
     "output_type": "execute_result"
    }
   ],
   "source": [
    "predictions = model.predict(x_test)\n",
    "predictions"
   ]
  },
  {
   "cell_type": "code",
   "execution_count": 593,
   "id": "cb8556f1",
   "metadata": {},
   "outputs": [],
   "source": [
    "from sklearn.metrics import confusion_matrix, f1_score, precision_score, recall_score, classification_report, accuracy_score"
   ]
  },
  {
   "cell_type": "code",
   "execution_count": 594,
   "id": "d5afc5c7",
   "metadata": {},
   "outputs": [
    {
     "data": {
      "text/plain": [
       "array([[2122,  143],\n",
       "       [ 488,  158]], dtype=int64)"
      ]
     },
     "execution_count": 594,
     "metadata": {},
     "output_type": "execute_result"
    }
   ],
   "source": [
    "cm = confusion_matrix(y_test, predictions)\n",
    "cm"
   ]
  },
  {
   "cell_type": "code",
   "execution_count": 595,
   "id": "5b367e3d",
   "metadata": {
    "scrolled": true
   },
   "outputs": [
    {
     "name": "stdout",
     "output_type": "stream",
     "text": [
      "accuracy = 78.32%\n"
     ]
    }
   ],
   "source": [
    "accuracy = accuracy_score(y_test, predictions)\n",
    "print(f\"accuracy = {accuracy * 100:.2f}%\")"
   ]
  },
  {
   "cell_type": "code",
   "execution_count": null,
   "id": "f940486d",
   "metadata": {},
   "outputs": [],
   "source": []
  },
  {
   "cell_type": "code",
   "execution_count": 597,
   "id": "3ba349e6",
   "metadata": {},
   "outputs": [
    {
     "name": "stdout",
     "output_type": "stream",
     "text": [
      "              precision    recall  f1-score   support\n",
      "\n",
      "         0.0       0.81      0.94      0.87      2265\n",
      "         1.0       0.52      0.24      0.33       646\n",
      "\n",
      "    accuracy                           0.78      2911\n",
      "   macro avg       0.67      0.59      0.60      2911\n",
      "weighted avg       0.75      0.78      0.75      2911\n",
      "\n"
     ]
    }
   ],
   "source": [
    "print(classification_report(y_test, predictions))"
   ]
  },
  {
   "cell_type": "code",
   "execution_count": 601,
   "id": "fd15cd48",
   "metadata": {
    "scrolled": false
   },
   "outputs": [
    {
     "name": "stdout",
     "output_type": "stream",
     "text": [
      "[0.]\n"
     ]
    },
    {
     "name": "stderr",
     "output_type": "stream",
     "text": [
      "c:\\users\\vinay\\appdata\\local\\programs\\python\\python39\\lib\\site-packages\\sklearn\\base.py:445: UserWarning: X does not have valid feature names, but LogisticRegressionCV was fitted with feature names\n",
      "  warnings.warn(\n"
     ]
    }
   ],
   "source": [
    "pre=model.predict([[90,90,3,200,4,3,2]])\n",
    "print(pre)"
   ]
  },
  {
   "cell_type": "code",
   "execution_count": 602,
   "id": "ee902302",
   "metadata": {},
   "outputs": [
    {
     "name": "stdout",
     "output_type": "stream",
     "text": [
      "[1.]\n"
     ]
    },
    {
     "name": "stderr",
     "output_type": "stream",
     "text": [
      "c:\\users\\vinay\\appdata\\local\\programs\\python\\python39\\lib\\site-packages\\sklearn\\base.py:445: UserWarning: X does not have valid feature names, but LogisticRegressionCV was fitted with feature names\n",
      "  warnings.warn(\n"
     ]
    }
   ],
   "source": [
    "pre=model.predict([[11,30,6,305,4,3,2]])\n",
    "print(pre)"
   ]
  },
  {
   "cell_type": "code",
   "execution_count": 604,
   "id": "e8a1c627",
   "metadata": {},
   "outputs": [],
   "source": [
    "import pickle\n",
    "\n",
    "file = open('Employee_Status.pkl', 'wb')\n",
    "\n",
    "pickle.dump(model, file)\n",
    "file.close()\n"
   ]
  },
  {
   "cell_type": "code",
   "execution_count": null,
   "id": "22f1eda3",
   "metadata": {},
   "outputs": [],
   "source": []
  },
  {
   "cell_type": "code",
   "execution_count": null,
   "id": "0563f0a8",
   "metadata": {},
   "outputs": [],
   "source": []
  },
  {
   "cell_type": "code",
   "execution_count": null,
   "id": "1bc66fc9",
   "metadata": {},
   "outputs": [],
   "source": []
  },
  {
   "cell_type": "code",
   "execution_count": null,
   "id": "a24bf39c",
   "metadata": {},
   "outputs": [],
   "source": []
  }
 ],
 "metadata": {
  "kernelspec": {
   "display_name": "Python 3 (ipykernel)",
   "language": "python",
   "name": "python3"
  },
  "language_info": {
   "codemirror_mode": {
    "name": "ipython",
    "version": 3
   },
   "file_extension": ".py",
   "mimetype": "text/x-python",
   "name": "python",
   "nbconvert_exporter": "python",
   "pygments_lexer": "ipython3",
   "version": "3.9.2"
  }
 },
 "nbformat": 4,
 "nbformat_minor": 5
}
